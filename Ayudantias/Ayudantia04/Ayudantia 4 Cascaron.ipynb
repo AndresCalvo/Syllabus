{
 "cells": [
  {
   "cell_type": "markdown",
   "metadata": {},
   "source": [
    "# Ayudantía 4\n",
    "\n",
    "Nicolás Maturana y Gabriel Lyon\n",
    "\n",
    "## Solución AC05 2017-2\n",
    "\n",
    "### Excepciones y Testing\n",
    "\n",
    "El enunciado completo de esta actividad se encuentra [aquí](https://github.com/IIC2233/Syllabus-2017-2/blob/master/Actividades/AC05/Enunciado%20AC05.pdf)."
   ]
  },
  {
   "cell_type": "markdown",
   "metadata": {
    "collapsed": true
   },
   "source": [
    "## Introducción\n",
    "El Departamento de Ciencia de la Computación (DCC) se ha percatado de que muchos de sus cursos se quedan\n",
    "sin cupos y, por lo tanto, ha creado un formulario para que sus alumnos puedan indicar qué cursos necesitan\n",
    "tomar. En este formulario los alumnos debían completar los siguientes datos:\n",
    "    - Nombre\n",
    "    - Sexualidad\n",
    "    - RUT \n",
    "    - Sigla de curso\n",
    "    - Seccion\n",
    "    - Comentario\n",
    "\n",
    "Además, el DCC ha creado una librería para analizar las respuestas del formulario (la cual encontramos en `form.py`). \n",
    "\n",
    "Sin embargo, esta librería no considera varias situaciones que iremos detallando a continuación:\n",
    "\n",
    "## Levantamiento de Excepciones\n",
    "\n",
    "El archivo `form.py` contiene a la clase FormRegister con varios métodos que no logran procesar algunas respuestas de los alumnos, de tal forma que nosotros debemos levantar excepciones cuando ocurra algo que no queremos.\n",
    "\n",
    "El `__init__` de la clase `FormRegister` es el siguiente:"
   ]
  },
  {
   "cell_type": "code",
   "execution_count": null,
   "metadata": {
    "collapsed": true
   },
   "outputs": [],
   "source": [
    "class FormRegister:\n",
    "    def __init__(self):\n",
    "        \"\"\"\n",
    "        NO TOCAR el init\n",
    "        \"\"\"\n",
    "        self.courses = {\n",
    "            \"IIC1103\": [0, 0, 0],  # IIC1103 tiene 2 secciones\n",
    "            \"IIC2233\": [0, 0, 0, 0],  # IIC2233 tiene 3 secciones\n",
    "            \"IIC2115\": [0, 0],  # IIC2115 tiene 1 seccion\n",
    "            \"IIE3115\": [0, 0],  # IIC2115 tiene 1 seccion\n",
    "            \"IIC2332\": [0, 0],  # IIC2115 tiene 1 seccion\n",
    "            \"IIC2515\": [0, 0]  # IIC2115 tiene 1 seccion\n",
    "        }\n",
    "\n",
    "        self.register_list = []  # Almacena los alumnos que se inscribieron con exito"
   ]
  },
  {
   "cell_type": "markdown",
   "metadata": {},
   "source": [
    "Además, la libreria tiene los métodos:\n",
    "\n",
    "**`check_rut(rut)`:** Este método verifica que el rut sea válido, es decir, el dígito verificador corresponde al rut. Este debe venir en el siguiente formato:\n",
    "    - Sin puntos\n",
    "    - Guío y el dígito verificador. Ej: 19829694-5. \n",
    "    \n",
    "Si el rut resulta ser válido retorna `True`, si no, `False`. Lo que se pide para este método es levantar una excepción cuá\n",
    "ndo el RUT viene con puntos, o en vez de guión hay un espacio."
   ]
  },
  {
   "cell_type": "code",
   "execution_count": 1,
   "metadata": {
    "collapsed": true
   },
   "outputs": [],
   "source": [
    "    def check_rut(self, rut):\n",
    "            # Verificamos si existen puntos en el rut o no hay un guion, en ese caso levantamos una excepcion.\n",
    "            if '.' in rut:\n",
    "                raise ValueError('El rut debe ir sin puntos.')\n",
    "            if '-' != rut[-2]:\n",
    "                raise ValueError('El rut debe tener guion.')\n",
    "\n",
    "            # En caso contrario se deja que el codigo haga su trabajo de verificar si el rut es correcto.\n",
    "            digits, checker = rut.split(\"-\")\n",
    "            digits = list(digits)\n",
    "\n",
    "            for i in range(len(digits)):\n",
    "                digits[i] = int(digits[i])\n",
    "\n",
    "            list_number = [2, 3, 4, 5, 6, 7, 2, 3, 4, 5]\n",
    "\n",
    "            digits.reverse()\n",
    "            total = 0\n",
    "            for i in range(len(digits)):\n",
    "                total += digits[i] * list_number[i]\n",
    "\n",
    "            rest = 11 - total % 11\n",
    "            if rest == 11:\n",
    "                rest = \"0\"\n",
    "            elif rest == 10:\n",
    "                rest = \"k\"\n",
    "            else:\n",
    "                rest = str(rest)\n",
    "\n",
    "            return rest == checker"
   ]
  },
  {
   "cell_type": "markdown",
   "metadata": {},
   "source": [
    "- **`add_course(course, section)`:** Este método añade al diccionario `self.courses` la demanda del curso indicado. El curso debe venir con la sigla del departamento y la sigla numerica sin espacios. Ej: IIC2233.\n",
    "\n",
    "Se pide levantar una excepción cuaándo exista un espacio en la sigla. Además, otra excepción si no existe el número de sección en la clase `FormRegister`. Concretamente, puede venir con 4 tipos de eventualidades: \n",
    "\n",
    " > -  Hay un espacio en la sigla\n",
    " > - La sección vino escrita como todas en vez del número\n",
    " > - La sección fue ingresada con texto en el formato \"section N\"\n",
    " > - La sección no existe."
   ]
  },
  {
   "cell_type": "code",
   "execution_count": null,
   "metadata": {
    "collapsed": true
   },
   "outputs": [],
   "source": [
    "     def add_course(self, course, section):\n",
    "\n",
    "            # Hay un espacio en la sigla\n",
    "\n",
    "            # La seccion vino escrita como todas en vez del numero\n",
    "\n",
    "            # La seccion fue ingresada con texto en el formato \"section N\"\n",
    "\n",
    "            # La seccion no existe.\n",
    "\n",
    "            self.courses[course][int(section)] += 1"
   ]
  },
  {
   "cell_type": "markdown",
   "metadata": {},
   "source": [
    "Además, la librería tiene 2 métodos que no debían ser modificados:\n",
    "\n",
    "- **`register_people_info(student_name, gender, comment)`:** Este método se llama después de verificar el RUT, en caso de que sea correcto se guarda la información del estudiante en una base de datos temporal.\n",
    "- **`save_data(path)`:** Dado un path, genera un archivo con todos los usuarios registrados en la base de datos temporal y deja vacía esa base de datos."
   ]
  },
  {
   "cell_type": "code",
   "execution_count": null,
   "metadata": {
    "collapsed": true
   },
   "outputs": [],
   "source": [
    "    def register_people_info(self, student_name, gender, comment):\n",
    "            self.register_list.append([student_name, gender, comment])\n",
    "\n",
    "    def save_data(self, path):\n",
    "        with open(path, \"w\") as file:\n",
    "            for register in self.register_list:\n",
    "                text = \"Student: {}\\nGender: {}\\nComment: {}\\n\".format(*register)\n",
    "                file.write(text + \"#\"*40 + \"\\n\")\n",
    "\n",
    "            print(\"Informacion guardada con exito\")"
   ]
  },
  {
   "cell_type": "markdown",
   "metadata": {},
   "source": [
    "Por lo tanto la clase FormRegister queda finalmente como:"
   ]
  },
  {
   "cell_type": "code",
   "execution_count": null,
   "metadata": {
    "collapsed": true
   },
   "outputs": [],
   "source": [
    "class FormRegister:\n",
    "    def __init__(self):\n",
    "        \"\"\"\n",
    "        NO TOCAR el init\n",
    "        \"\"\"\n",
    "        self.courses = {\n",
    "            \"IIC1103\": [0, 0, 0],  # IIC1103 tiene 2 secciones\n",
    "            \"IIC2233\": [0, 0, 0, 0],  # IIC2233 tiene 3 secciones\n",
    "            \"IIC2115\": [0, 0],  # IIC2115 tiene 1 seccion\n",
    "            \"IIE3115\": [0, 0],  # IIC2115 tiene 1 seccion\n",
    "            \"IIC2332\": [0, 0],  # IIC2115 tiene 1 seccion\n",
    "            \"IIC2515\": [0, 0]  # IIC2115 tiene 1 seccion\n",
    "        }\n",
    "\n",
    "        self.register_list = []  # Almacena los alumnos que se inscribieron con exito"
   ]
  },
  {
   "cell_type": "markdown",
   "metadata": {},
   "source": [
    "Con esto concluye la primera parte de la actividad (levantamiento de excepciones).\n",
    "\n",
    "## Manejo de Excepciones\n",
    "\n",
    "Para esta parte se debe manejar las excepciones desde el el código escrito en `AC05.py`, el cual inicialmente se ve de la siguiente forma:"
   ]
  },
  {
   "cell_type": "code",
   "execution_count": null,
   "metadata": {
    "collapsed": true
   },
   "outputs": [],
   "source": [
    "form = FormRegister()\n",
    "\n",
    "with open(\"test.txt\") as test_file:\n",
    "\n",
    "    for line in test_file:\n",
    "        name, gender, rut, course, section, comment = line.split(\";\")\n",
    "        comment = comment.strip(\"\\n\")\n",
    "\n",
    "        rut_verified = form.check_rut(rut)\n",
    "\n",
    "        if rut_verified:\n",
    "            form.add_course(course, section)\n",
    "\n",
    "            form.register_people_info(name, gender, comment)\n",
    "\n",
    "    form.save_data(\"result.txt\")"
   ]
  },
  {
   "cell_type": "markdown",
   "metadata": {},
   "source": [
    "Lo que se debe hacer es un buen uso de `Try`/`Except` para manejar las excepciones según lo pedido.\n",
    "\n",
    "> - Si un RUT tienen punto/s, o bien, no está con guión, arreglarlos. Ej: 19.829.694 5 -> 19829694-5\n",
    "> - Si los cursos tienen un espacio, se elimina el espacio. Ej: IIC 2233 -> IIC2233\n",
    "> - Si el número de sección no existe, se deja como 0. Ej: 888 -> 0\n",
    "> - Si la sección es \"todas\", se cambia por 0. Ej: \"todas\" -> 0\n",
    "> - Si la sección es de tipo \"section N\", se cambia por N. Ej: \"section 5\" -> 5"
   ]
  },
  {
   "cell_type": "code",
   "execution_count": null,
   "metadata": {
    "collapsed": true
   },
   "outputs": [],
   "source": [
    "form = FormRegister()\n",
    "\n",
    "with open(\"test.txt\") as test_file:\n",
    "\n",
    "    for line in test_file:\n",
    "        name, gender, rut, course, section, comment = line.split(\";\")\n",
    "        comment = comment.strip(\"\\n\")\n",
    "        \n",
    "        # Try acá\n",
    "        rut_verified = form.check_rut(rut)\n",
    "\n",
    "        if rut_verified:\n",
    "            # Try acá\n",
    "            form.add_course(course, section)\n",
    "\n",
    "            \n",
    "            # No modificar desde acá\n",
    "            form.register_people_info(name, gender, comment)\n",
    "\n",
    "    form.save_data(\"result.txt\")"
   ]
  },
  {
   "cell_type": "markdown",
   "metadata": {},
   "source": [
    "Con esto termina la parte de manejo de excepciones y falta solo la parte final.\n",
    "\n",
    "## Testing\n",
    "\n",
    "Para demostrar que la librería funciona se debía escribir un código de *testing* que probara las siguientes funcionalidades:\n",
    "\n",
    "- Al vericar un RUT con un dígito verificador erroneo y formato correcto, el metodo `check_rut` retorna `False`\n",
    "\n",
    "Para esto, primero se debe escribir la clase `Test` y definir los métodos `setUp` y `tearDown`, para luego ejecutar el *testing*. "
   ]
  },
  {
   "cell_type": "code",
   "execution_count": null,
   "metadata": {
    "collapsed": true
   },
   "outputs": [],
   "source": [
    "import unittest\n",
    "import os.path\n",
    "\n",
    "\n",
    "class Test(unittest.TestCase):\n",
    "    \n",
    "    def setUp(self):\n",
    "        pass\n",
    "\n",
    "    def tearDown(self):\n",
    "        pass\n",
    "            \n",
    "    def test_rut(self):  # Testea la función check_rut (que retorne False ante ruts inexistentes).\n",
    "        pass"
   ]
  },
  {
   "cell_type": "markdown",
   "metadata": {},
   "source": [
    "- Al ingresar un RUT con formato incorrecto, se quiere verificar que se levante una excepción.\n",
    "- Al ingresar un RUT con formato correcto, se debe retornanr `True`."
   ]
  },
  {
   "cell_type": "code",
   "execution_count": null,
   "metadata": {
    "collapsed": true
   },
   "outputs": [],
   "source": [
    "    # Testea que check_rut levante una excepción al ingresar un rut en mal formato.\n",
    "    def test_rut_exception(self):  \n",
    "        # Cuando el formato está bien, retorna True.\n",
    "        pass \n",
    "    "
   ]
  },
  {
   "cell_type": "markdown",
   "metadata": {},
   "source": [
    "- Se debe verificar que si se registra de manera correcta una persona y se guardan los cambios realizados en un archivo, los datos estan bien ingresados en el archivo creado. Es decir, vericar que las primeras 4 lineas del archivo sean:\n",
    "> - Student: \"nombre_alumno\"\n",
    "  - Gender: \"genero\"\n",
    "  - Comment: \"comentario\"\n",
    "  - ########################################"
   ]
  },
  {
   "cell_type": "code",
   "execution_count": null,
   "metadata": {
    "collapsed": true
   },
   "outputs": [],
   "source": [
    "    # Testea que los datos de usuarios registrados estén bien guardados al ejecutar save_data.\n",
    "    def test_file(self):  \n",
    "        pass    "
   ]
  },
  {
   "cell_type": "markdown",
   "metadata": {},
   "source": [
    "- Se debe verificar que el método `register_people_info` guarde dentro de la base temporal la informacion de la persona. Para esto el método a crear debrá verificar que cada dato ingresado se encuentra en el último elemento de la base de datos temporal."
   ]
  },
  {
   "cell_type": "code",
   "execution_count": null,
   "metadata": {
    "collapsed": true
   },
   "outputs": [],
   "source": [
    "def test_register(self):  # Testea que los datos ingresados en la base de datos local sean correctos.\n",
    "        pass"
   ]
  },
  {
   "cell_type": "markdown",
   "metadata": {},
   "source": [
    "Finalmente la clase `Test` quedará de la siguiente manera:"
   ]
  },
  {
   "cell_type": "code",
   "execution_count": null,
   "metadata": {
    "collapsed": true
   },
   "outputs": [],
   "source": []
  },
  {
   "cell_type": "markdown",
   "metadata": {},
   "source": [
    "Ahora ejecutamos el *test*"
   ]
  },
  {
   "cell_type": "code",
   "execution_count": null,
   "metadata": {
    "collapsed": true
   },
   "outputs": [],
   "source": [
    "# test.main() en cualquier editor que no sea jupyter\n",
    "\n",
    "suite = unittest.TestLoader().loadTestsFromTestCase(Test)\n",
    "unittest.TextTestRunner().run(suite)"
   ]
  },
  {
   "cell_type": "code",
   "execution_count": null,
   "metadata": {
    "collapsed": true
   },
   "outputs": [],
   "source": []
  }
 ],
 "metadata": {
  "kernelspec": {
   "display_name": "Python 3",
   "language": "python",
   "name": "python3"
  },
  "language_info": {
   "codemirror_mode": {
    "name": "ipython",
    "version": 3
   },
   "file_extension": ".py",
   "mimetype": "text/x-python",
   "name": "python",
   "nbconvert_exporter": "python",
   "pygments_lexer": "ipython3",
   "version": "3.6.2"
  }
 },
 "nbformat": 4,
 "nbformat_minor": 2
}
