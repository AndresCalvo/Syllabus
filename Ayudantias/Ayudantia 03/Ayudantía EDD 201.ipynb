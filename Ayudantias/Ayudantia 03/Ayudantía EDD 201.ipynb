{
 "cells": [
  {
   "cell_type": "markdown",
   "metadata": {},
   "source": [
    "# [AC04 2016-2](https://github.com/IIC2233-2016-02/Syllabus/blob/master/Actividades/AC04/Enunciado%20AC04.pdf)\n",
    "\n"
   ]
  },
  {
   "cell_type": "code",
   "execution_count": 6,
   "metadata": {
    "collapsed": true
   },
   "outputs": [],
   "source": [
    "class Especie:\n",
    "# Esto es un nodo    \n",
    "    def __init__(self, id_nodo, genes):\n",
    "        self.id_nodo = id_nodo\n",
    "        self.genes = genes\n",
    "        self.parientes = []\n",
    "\n",
    "    def __repr__(self):\n",
    "        pass\n",
    "\n",
    "    def __eq__(self, other):\n",
    "        pass"
   ]
  },
  {
   "cell_type": "code",
   "execution_count": 5,
   "metadata": {
    "collapsed": true
   },
   "outputs": [],
   "source": [
    "class MapaGenetico:\n",
    "\n",
    "    def __init__(self):\n",
    "        self.especies = []\n",
    "\n",
    "    def __repr__(self):\n",
    "        pass\n",
    "\n",
    "    def cargar_mapa(self, name):\n",
    "        pass\n",
    "    \n",
    "    def agregar_nodo(self, id_nodo, genes):\n",
    "        pass\n",
    "\n",
    "    def no_pariente(self, id_nodo):\n",
    "        pass"
   ]
  },
  {
   "cell_type": "code",
   "execution_count": 7,
   "metadata": {
    "collapsed": true
   },
   "outputs": [],
   "source": [
    "a = MapaGenetico()"
   ]
  },
  {
   "cell_type": "code",
   "execution_count": 8,
   "metadata": {
    "collapsed": false
   },
   "outputs": [],
   "source": [
    "a.cargar_mapa(\"mapa.txt\")"
   ]
  },
  {
   "cell_type": "code",
   "execution_count": null,
   "metadata": {
    "collapsed": true
   },
   "outputs": [],
   "source": [
    "a"
   ]
  },
  {
   "cell_type": "markdown",
   "metadata": {},
   "source": [
    "# Nodos:\n",
    "-   Unidad básica de toda estrucura de datos\n",
    "-   Posee un valor y referencias a otros nodos"
   ]
  },
  {
   "cell_type": "code",
   "execution_count": 1,
   "metadata": {
    "collapsed": true
   },
   "outputs": [],
   "source": [
    "class Nodo:\n",
    "    def __init__(self, valor, vecinos):\n",
    "        self.value = valor\n",
    "        self.vecinos = vecinos"
   ]
  },
  {
   "cell_type": "markdown",
   "metadata": {},
   "source": [
    "# Listas Ligadas:\n",
    "-   Conexión lineal de nodos en la que cada uno tiene una referencia al siguiente nodo\n",
    "-   Un caso particular son las listas doblemente ligadas en las que además se contiene una referencia al nodo anterior"
   ]
  },
  {
   "cell_type": "markdown",
   "metadata": {},
   "source": [
    "![title](Lista_ligada.png)"
   ]
  },
  {
   "cell_type": "code",
   "execution_count": 2,
   "metadata": {
    "collapsed": true
   },
   "outputs": [],
   "source": [
    "class NodoLista:\n",
    "    def __init__(self, valor):\n",
    "        self.value = valor\n",
    "        self.next = None\n",
    "        \n",
    "class LinkedList:\n",
    "    def __init__(self, *args):\n",
    "        pass\n",
    "        \n",
    "    def append(self, valor):\n",
    "        pass"
   ]
  },
  {
   "cell_type": "markdown",
   "metadata": {},
   "source": [
    "# Árboles:\n",
    "-   Estructura no lineal de datos\n",
    "-   Ordenada jerárquicamente\n",
    "-   Posee un raiz, nodos internos y nodos hoja\n",
    "-   Cada nodo tiene referencia a sus hijos, los cuales son padres de sub-arboles"
   ]
  },
  {
   "cell_type": "markdown",
   "metadata": {},
   "source": [
    "![title](arbol.png)"
   ]
  },
  {
   "cell_type": "code",
   "execution_count": 3,
   "metadata": {
    "collapsed": true
   },
   "outputs": [],
   "source": [
    "class Arbol:\n",
    "    ids = 1\n",
    "    \n",
    "    def __init__(self, value):\n",
    "        self.childs = []\n",
    "        self.id = Arbol.ids\n",
    "        self.value = value\n",
    "        Arbol.ids += 1\n",
    "\n",
    "    def add_child(self, id_nodo, value):\n",
    "        pass\n",
    "        \n",
    "    def find_node(self, id_nodo):\n",
    "        pass"
   ]
  },
  {
   "cell_type": "markdown",
   "metadata": {},
   "source": [
    "# Grafos:\n",
    "-   Conjuntos de nodos relacionados entre sí\n",
    "-   No jerarquicos ni linales necesariamente\n",
    "-   Cada nodo se relaciona con N nodos"
   ]
  },
  {
   "cell_type": "markdown",
   "metadata": {},
   "source": [
    "![title](grafo.png)"
   ]
  },
  {
   "cell_type": "code",
   "execution_count": 4,
   "metadata": {
    "collapsed": false
   },
   "outputs": [],
   "source": [
    "class NodoGrafo:\n",
    "    def __init__(self, value, id):\n",
    "        self.ID = id\n",
    "        self.value = value\n",
    "        self.connections_ID = []\n",
    "\n",
    "    def add_connection(self, id):\n",
    "        self.connections_ID.append(id)\n",
    "        \n",
    "\n",
    "class Grafo:\n",
    "\n",
    "    ID = 0\n",
    "    \n",
    "    def __init__(self):\n",
    "        self.nodos = dict()\n",
    "    \n",
    "    def add_node(self, value, id_nodo=None):\n",
    "        pass\n",
    "\n",
    "    def add_connection(self, id1, id2):\n",
    "        pass\n",
    "\n",
    "    def find_node(self, id_nodo):\n",
    "        pass"
   ]
  },
  {
   "cell_type": "code",
   "execution_count": null,
   "metadata": {
    "collapsed": true
   },
   "outputs": [],
   "source": []
  }
 ],
 "metadata": {
  "kernelspec": {
   "display_name": "Python 3",
   "language": "python",
   "name": "python3"
  },
  "language_info": {
   "codemirror_mode": {
    "name": "ipython",
    "version": 3
   },
   "file_extension": ".py",
   "mimetype": "text/x-python",
   "name": "python",
   "nbconvert_exporter": "python",
   "pygments_lexer": "ipython3",
   "version": "3.6.0"
  }
 },
 "nbformat": 4,
 "nbformat_minor": 0
}
