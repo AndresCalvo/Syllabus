{
 "cells": [
  {
   "cell_type": "markdown",
   "metadata": {},
   "source": [
    "# [AC04 2016-2](https://github.com/IIC2233-2016-02/Syllabus/blob/master/Actividades/AC04/Enunciado%20AC04.pdf)\n",
    "-   Solución sugerida para la actividad 2016-2 (link arriba)\n",
    "-   Usen la ayudantía de torpedo para la tarea/actividad (les conviene)\n",
    "-   Al final viene un resumen con otras EDD además de grafos que tambien es importante que sepan\n",
    "-   Cualquier duda pueden preguntarnos a los ayudantes o subir una issue, suerte en su actividad 😁"
   ]
  },
  {
   "cell_type": "code",
   "execution_count": 44,
   "metadata": {
    "collapsed": true
   },
   "outputs": [],
   "source": [
    "class Especie:\n",
    "# Esto es un nodo\n",
    "    def __init__(self, id_nodo, genes):\n",
    "        self.id_nodo = id_nodo\n",
    "        self.genes = genes\n",
    "        self.parientes = []\n",
    "\n",
    "    def __repr__(self):\n",
    "        genes = \"\"\n",
    "        for gen in self.genes:\n",
    "            genes += gen + \"-\"\n",
    "        genes = genes.strip(\"-\")\n",
    "        s = \"ID: {} - Genes: {}\".format(self.id_nodo, genes)\n",
    "        return s\n",
    "\n",
    "    def __eq__(self, other):\n",
    "        \"Define la acción a realizar al hacer Especie() == Especie(), en este caso comparar los id\"\n",
    "        return self.id_nodo == other.id_nodo"
   ]
  },
  {
   "cell_type": "code",
   "execution_count": 45,
   "metadata": {
    "collapsed": true
   },
   "outputs": [],
   "source": [
    "class MapaGenetico:\n",
    "\n",
    "    def __init__(self):\n",
    "        self.especies = []\n",
    "\n",
    "    def __repr__(self):\n",
    "        # Como esta clase no tiene __str__ al hacer print se llamará al método __repr__\n",
    "        # Por prioridad en un objeto libre se llama a __str__, __repr__, dirección de memoria\n",
    "        # En un objeto dentro de una lista: __repr__, dirección de memoria *Importante que no pasa por __str__\n",
    "        s = \"\"\n",
    "        for especie in self.especies:\n",
    "            s += str(especie) + \"\\n\"\n",
    "            for pariente, gen in especie.parientes:\n",
    "                s += \"    {} - Gen compartido: {}\\n\".format(\n",
    "                    pariente, gen)\n",
    "        return s.strip()\n",
    "\n",
    "    def cargar_mapa(self, path):\n",
    "        with open(path, \"r\") as f:\n",
    "            for line in f:\n",
    "                ID, genes = line.strip().split(':')\n",
    "                genes = genes.split(\"-\")\n",
    "                self.agregar_nodo(ID, genes)\n",
    "\n",
    "    def agregar_nodo(self, id_nodo, genes):\n",
    "        especie = Especie(id_nodo, genes)\n",
    "        for e in self.especies:\n",
    "            for gen in especie.genes:\n",
    "                if gen in e.genes:\n",
    "                    e.parientes.append([especie, gen])\n",
    "                    especie.parientes.append((e, gen))\n",
    "        self.especies.append(especie)\n",
    "\n",
    "    def no_pariente(self, id_nodo):\n",
    "        # Primero buscamos que el id del nodo exista\n",
    "        id_nodo = str(id_nodo)\n",
    "        for especie in self.especies:\n",
    "            if especie.id_nodo == id_nodo:\n",
    "                break # Rompemos el ciclo si encontramos el nodo\n",
    "        else:\n",
    "            # El else del for solo se ejecuta cuando este se recorre completamente sin\n",
    "            # romperlo entre medio (no entró al break)\n",
    "            print(\"Especie no encontrada\")\n",
    "            return # Nos saca de la función\n",
    "        s = \"Los siguientes no son parientes de {}:\\n\".format(id_nodo)\n",
    "        for e in self.especies:\n",
    "            if e == especie:\n",
    "                continue # Pasamos a la siguiente especie (por como esta definido el método \n",
    "                # __eq__ comparar especies es comparar sus id)\n",
    "            # Caso en el que la especie no es si mismo\n",
    "            for gen in especie.genes:\n",
    "                if gen in e.genes:\n",
    "                    break\n",
    "            else:\n",
    "                s += \"{}\\n\".format(e)\n",
    "        print(s.strip())"
   ]
  },
  {
   "cell_type": "code",
   "execution_count": 46,
   "metadata": {
    "collapsed": true
   },
   "outputs": [],
   "source": [
    "a = MapaGenetico()"
   ]
  },
  {
   "cell_type": "code",
   "execution_count": 47,
   "metadata": {
    "collapsed": false
   },
   "outputs": [],
   "source": [
    "a.cargar_mapa(\"mapa.txt\")"
   ]
  },
  {
   "cell_type": "code",
   "execution_count": 49,
   "metadata": {
    "collapsed": false
   },
   "outputs": [
    {
     "name": "stdout",
     "output_type": "stream",
     "text": [
      "Los siguientes no son parientes de 1:\n",
      "ID: 4 - Genes: 5-8-0\n"
     ]
    }
   ],
   "source": [
    "a.no_pariente(1)"
   ]
  },
  {
   "cell_type": "code",
   "execution_count": 48,
   "metadata": {
    "collapsed": false
   },
   "outputs": [
    {
     "data": {
      "text/plain": [
       "ID: 1 - Genes: 1-2-3-4\n",
       "    ID: 2 - Genes: 4-5-6-7 - Gen compartido: 4\n",
       "    ID: 3 - Genes: 7-8-9-1 - Gen compartido: 1\n",
       "ID: 2 - Genes: 4-5-6-7\n",
       "    ID: 1 - Genes: 1-2-3-4 - Gen compartido: 4\n",
       "    ID: 3 - Genes: 7-8-9-1 - Gen compartido: 7\n",
       "    ID: 4 - Genes: 5-8-0 - Gen compartido: 5\n",
       "ID: 3 - Genes: 7-8-9-1\n",
       "    ID: 1 - Genes: 1-2-3-4 - Gen compartido: 1\n",
       "    ID: 2 - Genes: 4-5-6-7 - Gen compartido: 7\n",
       "    ID: 4 - Genes: 5-8-0 - Gen compartido: 8\n",
       "ID: 4 - Genes: 5-8-0\n",
       "    ID: 2 - Genes: 4-5-6-7 - Gen compartido: 5\n",
       "    ID: 3 - Genes: 7-8-9-1 - Gen compartido: 8"
      ]
     },
     "execution_count": 48,
     "metadata": {},
     "output_type": "execute_result"
    }
   ],
   "source": [
    "a"
   ]
  },
  {
   "cell_type": "markdown",
   "metadata": {},
   "source": [
    "# Nodos:\n",
    "-   Unidad básica de toda estrucura de datos\n",
    "-   Posee un valor y referencias a otros nodos"
   ]
  },
  {
   "cell_type": "code",
   "execution_count": 6,
   "metadata": {
    "collapsed": true
   },
   "outputs": [],
   "source": [
    "class Nodo:\n",
    "    def __init__(self, valor, vecinos):\n",
    "        self.value = valor\n",
    "        self.vecinos = vecinos"
   ]
  },
  {
   "cell_type": "markdown",
   "metadata": {},
   "source": [
    "# Listas Ligadas:\n",
    "-   Conexión lineal de nodos en la que cada uno tiene una referencia al siguiente nodo\n",
    "-   Un caso particular son las listas doblemente ligadas en las que además se contiene una referencia al nodo anterior"
   ]
  },
  {
   "cell_type": "markdown",
   "metadata": {},
   "source": [
    "![title](Lista_ligada.png)"
   ]
  },
  {
   "cell_type": "code",
   "execution_count": 7,
   "metadata": {
    "collapsed": true
   },
   "outputs": [],
   "source": [
    "class NodoLista:\n",
    "    def __init__(self, valor):\n",
    "        self.value = valor\n",
    "        self.next = None\n",
    "        \n",
    "class LinkedList:\n",
    "    def __init__(self, *args):\n",
    "        self.head = None\n",
    "        self.tail = None\n",
    "        for arg in args:\n",
    "            self.append(arg)\n",
    "        \n",
    "    def append(self, valor):\n",
    "        if not self.head:\n",
    "            self.head = NodoLista(valor)\n",
    "            self.tail = self.head\n",
    "        else:\n",
    "            self.tail.next = NodoLista(valor)\n",
    "            self.tail = self.tail.next\n",
    "\n",
    "#Opción B: Recursión\n",
    "#class LinkedList:\n",
    "#    def __init__(self, *args):\n",
    "#        # [a,b,c] -> LinkedList(a, b, c)\n",
    "#        self.value = args[0]\n",
    "#        if len(args[1:]):\n",
    "#            self.next = LinkedList(*args[1:])\n",
    "#        else:\n",
    "#            self.next = None\n",
    "#        \n",
    "#    def append(self, valor):\n",
    "#        if self.next is None:\n",
    "#            self.next = LinkedList(valor)\n",
    "#        else:\n",
    "#            self.next.append(valor)\n",
    "#    \n",
    "#    def __str__(self):\n",
    "#        s = str(self.value) + \", \"\n",
    "#        if self.next is not None:\n",
    "#            s += str(self.next)\n",
    "#        return s.strip().strip(\",\")\n",
    "#    \n",
    "#    def __getitem__(self, v):\n",
    "#        \"método muy util para obtener elementos de sus estructuras de datos como estuctura[n]\"\n",
    "#        if v == 0:\n",
    "#            return self.value\n",
    "#        else:\n",
    "#            return self.next[v-1]"
   ]
  },
  {
   "cell_type": "markdown",
   "metadata": {},
   "source": [
    "# Árboles:\n",
    "-   Estructura no lineal de datos\n",
    "-   Ordenada jerárquicamente\n",
    "-   Posee un raíz, nodos internos y nodos hoja\n",
    "-   Cada nodo tiene referencia a sus hijos, los cuales son padres de sub-árboles"
   ]
  },
  {
   "cell_type": "markdown",
   "metadata": {},
   "source": [
    "![title](arbol.png)"
   ]
  },
  {
   "cell_type": "code",
   "execution_count": 8,
   "metadata": {
    "collapsed": true
   },
   "outputs": [],
   "source": [
    "class Arbol:\n",
    "    ids = 1\n",
    "    \n",
    "    def __init__(self, value):\n",
    "        self.childs = []\n",
    "        self.id = Arbol.ids\n",
    "        self.value = value\n",
    "        Arbol.ids += 1\n",
    "\n",
    "    def add_child(self, id_nodo, value):\n",
    "        nodo = self.find_node(id_nodo)\n",
    "        if nodo:\n",
    "            child = Arbol(value)\n",
    "            nodo.childs.append(child)\n",
    "        \n",
    "    def find_node(self, id_nodo):\n",
    "        if self.id == id_nodo:\n",
    "            return self\n",
    "        for child in self.childs:\n",
    "            nodo = child.find_node(id_nodo)\n",
    "            if nodo:\n",
    "                return nodo\n",
    "        return None"
   ]
  },
  {
   "cell_type": "markdown",
   "metadata": {},
   "source": [
    "# Grafos:\n",
    "-   Conjuntos de nodos relacionados entre sí\n",
    "-   No jerárquicos ni linales necesariamente\n",
    "-   Cada nodo se relaciona con N nodos"
   ]
  },
  {
   "cell_type": "markdown",
   "metadata": {},
   "source": [
    "![title](grafo.png)"
   ]
  },
  {
   "cell_type": "code",
   "execution_count": 9,
   "metadata": {
    "collapsed": false
   },
   "outputs": [],
   "source": [
    "class NodoGrafo:\n",
    "    def __init__(self, value, id):\n",
    "        self.ID = id\n",
    "        self.value = value\n",
    "        self.connections_ID = []\n",
    "\n",
    "    def add_connection(self, id):\n",
    "        self.connections_ID.append(id)\n",
    "\n",
    "class Grafo:\n",
    "\n",
    "    ID = 0\n",
    "\n",
    "    def __init__(self):\n",
    "        self.nodos = dict()\n",
    "\n",
    "    def add_node(self, value, id_nodo=None):\n",
    "        # crea nuevo nodo conectado a nodo de id id_nodo\n",
    "        new_node = NodoGrafo(value, Grafo.ID)\n",
    "        Grafo.ID += 1\n",
    "        self.nodos[new_node.ID] = new_node\n",
    "        if id_nodo:\n",
    "            nodo = self.find_node(id_nodo)\n",
    "            if nodo:\n",
    "                nodo.add_connection(new_node.ID)\n",
    "\n",
    "    def add_connection(self, id1, id2):\n",
    "        # añade el id2 a las conecciones de id1\n",
    "        nodo1 = self.find_node(id1)\n",
    "        if nodo1:\n",
    "            nodo1.add_connection(id2)\n",
    "\n",
    "    def find_node(self, id_nodo):\n",
    "        if id_nodo in self.nodos.keys():\n",
    "            return self.nodos[id_nodo]\n",
    "        return None"
   ]
  },
  {
   "cell_type": "code",
   "execution_count": null,
   "metadata": {
    "collapsed": true
   },
   "outputs": [],
   "source": []
  }
 ],
 "metadata": {
  "kernelspec": {
   "display_name": "Python 3",
   "language": "python",
   "name": "python3"
  },
  "language_info": {
   "codemirror_mode": {
    "name": "ipython",
    "version": 3
   },
   "file_extension": ".py",
   "mimetype": "text/x-python",
   "name": "python",
   "nbconvert_exporter": "python",
   "pygments_lexer": "ipython3",
   "version": "3.6.0"
  }
 },
 "nbformat": 4,
 "nbformat_minor": 0
}
