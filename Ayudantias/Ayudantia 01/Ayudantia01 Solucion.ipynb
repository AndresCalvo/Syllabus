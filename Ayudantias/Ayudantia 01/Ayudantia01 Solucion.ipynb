{
 "cells": [
  {
   "cell_type": "markdown",
   "metadata": {},
   "source": [
    "## ARGS y KWARGS\n",
    "\n",
    "En esta instancia, solo nos preocuparemos de entender cómo funcionan los args y los kwargs. Para esto, veamos algunos ejemplos en vivo de como funcionan y discutamos de que es lo que ocurre."
   ]
  },
  {
   "cell_type": "markdown",
   "metadata": {},
   "source": [
    "### `*args`\n",
    "\n",
    "Recordemos que los `*args` es una lista de argumentos posicionales, cuyo largo es variable (puede tener un número variable de elementos).\n",
    "\n",
    "Un ejemplo es la función `print`, la cual puede tomar un número variable de argumentos"
   ]
  },
  {
   "cell_type": "code",
   "execution_count": 1,
   "metadata": {},
   "outputs": [
    {
     "name": "stdout",
     "output_type": "stream",
     "text": [
      "['a', 'b', 'c']\n"
     ]
    }
   ],
   "source": [
    "lista = [\"a\", \"b\", \"c\"]\n",
    "\n",
    "print(lista) # Acá se entrega un solo argumento a la función 'print', el cual es una lista."
   ]
  },
  {
   "cell_type": "code",
   "execution_count": 3,
   "metadata": {},
   "outputs": [
    {
     "name": "stdout",
     "output_type": "stream",
     "text": [
      "1 c ['a', 'b', 'c']\n"
     ]
    }
   ],
   "source": [
    "print(1, \"c\", lista) # Ahora se le entregan 3 argumentos posicionales a la función."
   ]
  },
  {
   "cell_type": "markdown",
   "metadata": {},
   "source": [
    "Al hacer `*lista` se desempaqueta el contenido de ésta, pasándoselo a la función `print` como argumentos posicionales."
   ]
  },
  {
   "cell_type": "code",
   "execution_count": 4,
   "metadata": {},
   "outputs": [
    {
     "name": "stdout",
     "output_type": "stream",
     "text": [
      "a b c\n"
     ]
    }
   ],
   "source": [
    "print(*lista)"
   ]
  },
  {
   "cell_type": "markdown",
   "metadata": {},
   "source": [
    "El resultado de esto es análogo a lo siguiente:"
   ]
  },
  {
   "cell_type": "code",
   "execution_count": 5,
   "metadata": {},
   "outputs": [
    {
     "name": "stdout",
     "output_type": "stream",
     "text": [
      "a b c\n"
     ]
    }
   ],
   "source": [
    "print(\"a\", \"b\", \"c\") # print(lista[0], lista[1], lista[2])"
   ]
  },
  {
   "cell_type": "code",
   "execution_count": 34,
   "metadata": {},
   "outputs": [
    {
     "name": "stdout",
     "output_type": "stream",
     "text": [
      "1 2 3 a b c\n"
     ]
    }
   ],
   "source": [
    "print(1, 2, 3, *lista)"
   ]
  },
  {
   "cell_type": "markdown",
   "metadata": {},
   "source": [
    "Veamos cómo funciona en las funciones de _Python_. En el siguiente caso se tiene la función `funcion_args` que toma un número variable de argumentos posicionales (de 0 a infinito)."
   ]
  },
  {
   "cell_type": "code",
   "execution_count": 12,
   "metadata": {},
   "outputs": [
    {
     "name": "stdout",
     "output_type": "stream",
     "text": [
      "(['Javier', 'Patricio', 'Jaime'],)\n"
     ]
    }
   ],
   "source": [
    "def funcion_args(*argumentos):\n",
    "    print(argumentos) # la variable argumentos es una tupla con todos los argumentos recibidos\n",
    "\n",
    "nombres = [\"Javier\", \"Patricio\", \"Jaime\"]\n",
    "\n",
    "funcion_args(nombres) # Le pasamos 1 solo argumento, el cual es una lista de strings."
   ]
  },
  {
   "cell_type": "code",
   "execution_count": 13,
   "metadata": {},
   "outputs": [
    {
     "name": "stdout",
     "output_type": "stream",
     "text": [
      "('Javier', 'Patricio', 'Jaime')\n"
     ]
    }
   ],
   "source": [
    "funcion_args(*nombres) # Ahora le pasamos los strings como argumentos independientes."
   ]
  },
  {
   "cell_type": "code",
   "execution_count": 20,
   "metadata": {},
   "outputs": [
    {
     "name": "stdout",
     "output_type": "stream",
     "text": [
      "()\n"
     ]
    }
   ],
   "source": [
    "funcion_args() # Como se puede ver, la función puede incluso no recibir ningún argumento"
   ]
  },
  {
   "cell_type": "markdown",
   "metadata": {},
   "source": [
    "Cambiemos la función para ver más en detalle cómo funciona. En este caso, la función `funcion_args2` recibe al menos 1 argumento posicional (si no recibe ningún argumento tira error, no como en el caso anterior)."
   ]
  },
  {
   "cell_type": "code",
   "execution_count": 19,
   "metadata": {},
   "outputs": [
    {
     "name": "stdout",
     "output_type": "stream",
     "text": [
      "Parámetro1: ['Javier', 'Patricio', 'Jaime']\n",
      "Resto de argumentos empaquetados: ()\n"
     ]
    }
   ],
   "source": [
    "def funcion_args2(argumento1, *argumentos):\n",
    "    print(\"Parámetro1: {}\".format(argumento1))\n",
    "    print(\"Resto de argumentos empaquetados: {}\".format(argumentos))\n",
    "\n",
    "funcion_args2(nombres) # Le pasamos sólo un argumento (la lista)"
   ]
  },
  {
   "cell_type": "code",
   "execution_count": 22,
   "metadata": {},
   "outputs": [
    {
     "name": "stdout",
     "output_type": "stream",
     "text": [
      "Parámetro1: Javier\n",
      "Resto de argumentos empaquetados: ('Patricio', 'Jaime')\n"
     ]
    }
   ],
   "source": [
    "funcion_args2(*nombres) \n",
    "# En este caso, hemos desempaquetado la lista entregando 3 argumentos posicionales.\n",
    "# El primer string de la lista era 'Javier', por lo que es asignado al argumento1 de la función."
   ]
  },
  {
   "cell_type": "code",
   "execution_count": 23,
   "metadata": {},
   "outputs": [
    {
     "ename": "TypeError",
     "evalue": "funcion_args2() missing 1 required positional argument: 'argumento1'",
     "output_type": "error",
     "traceback": [
      "\u001b[0;31m---------------------------------------------------------------------------\u001b[0m",
      "\u001b[0;31mTypeError\u001b[0m                                 Traceback (most recent call last)",
      "\u001b[0;32m<ipython-input-23-fc654b734a6c>\u001b[0m in \u001b[0;36m<module>\u001b[0;34m()\u001b[0m\n\u001b[0;32m----> 1\u001b[0;31m \u001b[0mfuncion_args2\u001b[0m\u001b[0;34m(\u001b[0m\u001b[0;34m)\u001b[0m \u001b[0;31m# Si no le pasamos argumentos, tira error porque espera al menos 1 argumento\u001b[0m\u001b[0;34m\u001b[0m\u001b[0m\n\u001b[0m",
      "\u001b[0;31mTypeError\u001b[0m: funcion_args2() missing 1 required positional argument: 'argumento1'"
     ]
    }
   ],
   "source": [
    "funcion_args2() # Si no le pasamos argumentos, tira error porque espera al menos 1 argumento"
   ]
  },
  {
   "cell_type": "markdown",
   "metadata": {},
   "source": [
    "Otra forma de desempaquetar una lista/tupla es la siguiente:"
   ]
  },
  {
   "cell_type": "code",
   "execution_count": 27,
   "metadata": {},
   "outputs": [
    {
     "name": "stdout",
     "output_type": "stream",
     "text": [
      "Nombre: Eduardo\n",
      "País 1: Chile\n",
      "País 2: Argentina\n",
      "Ciudad: Santiago\n"
     ]
    }
   ],
   "source": [
    "datos = [\"Eduardo\", \"Chile\", \"Argentina\", \"Santiago\"]\n",
    "\n",
    "nombre, pais1, pais2, ciudad = datos\n",
    "\n",
    "# Se le asigna a cada variable el contenido de la lista, respetando el orden.\n",
    "\n",
    "print(\"Nombre: {}\".format(nombre))\n",
    "print(\"País 1: {}\".format(pais1))\n",
    "print(\"País 2: {}\".format(pais2))\n",
    "print(\"Ciudad: {}\".format(ciudad))"
   ]
  },
  {
   "cell_type": "markdown",
   "metadata": {},
   "source": [
    "Sin embargo, si la cantidad de variables no es la misma que la cantidad de objetos que posee la lista, entonces tira error."
   ]
  },
  {
   "cell_type": "code",
   "execution_count": 28,
   "metadata": {},
   "outputs": [
    {
     "ename": "ValueError",
     "evalue": "too many values to unpack (expected 3)",
     "output_type": "error",
     "traceback": [
      "\u001b[0;31m---------------------------------------------------------------------------\u001b[0m",
      "\u001b[0;31mValueError\u001b[0m                                Traceback (most recent call last)",
      "\u001b[0;32m<ipython-input-28-854b24c14530>\u001b[0m in \u001b[0;36m<module>\u001b[0;34m()\u001b[0m\n\u001b[0;32m----> 1\u001b[0;31m \u001b[0mnombre\u001b[0m\u001b[0;34m,\u001b[0m \u001b[0mpaises\u001b[0m\u001b[0;34m,\u001b[0m \u001b[0mciudad\u001b[0m \u001b[0;34m=\u001b[0m \u001b[0mdatos\u001b[0m\u001b[0;34m\u001b[0m\u001b[0m\n\u001b[0m",
      "\u001b[0;31mValueError\u001b[0m: too many values to unpack (expected 3)"
     ]
    }
   ],
   "source": [
    "nombre, paises, ciudad = datos"
   ]
  },
  {
   "cell_type": "markdown",
   "metadata": {},
   "source": [
    "Para esto, se puede utilizar el empaquetamiento que provee _Python_."
   ]
  },
  {
   "cell_type": "code",
   "execution_count": 32,
   "metadata": {},
   "outputs": [
    {
     "name": "stdout",
     "output_type": "stream",
     "text": [
      "Nombre: Eduardo\n",
      "Paises: ['Chile', 'Argentina']\n",
      "Ciudad: Santiago\n"
     ]
    }
   ],
   "source": [
    "datos = [\"Eduardo\", \"Chile\", \"Argentina\", \"Santiago\"]\n",
    "\n",
    "nombre, *paises, ciudad = datos\n",
    "\n",
    "print(\"Nombre: {}\".format(nombre))\n",
    "print(\"Paises: {}\".format(paises))\n",
    "print(\"Ciudad: {}\".format(ciudad))"
   ]
  },
  {
   "cell_type": "markdown",
   "metadata": {},
   "source": [
    "Esto funciona incluso si la lista creada queda vacía."
   ]
  },
  {
   "cell_type": "code",
   "execution_count": 33,
   "metadata": {},
   "outputs": [
    {
     "name": "stdout",
     "output_type": "stream",
     "text": [
      "Nombre: Eduardo\n",
      "País 1: Chile\n",
      "Paises: []\n",
      "País 2: Argentina\n",
      "Ciudad: Santiago\n"
     ]
    }
   ],
   "source": [
    "nombre, pais1, *paises, pais2, ciudad = datos\n",
    "\n",
    "print(\"Nombre: {}\".format(nombre))\n",
    "print(\"País 1: {}\".format(pais1))\n",
    "print(\"Paises: {}\".format(paises))\n",
    "print(\"País 2: {}\".format(pais2))\n",
    "print(\"Ciudad: {}\".format(ciudad))"
   ]
  },
  {
   "cell_type": "markdown",
   "metadata": {},
   "source": [
    "### `**kwargs`\n",
    "\n",
    "Al igual que `*args`, `**kwargs` es una secuencia de argumentos de tamaño variable, pero que no son argumentos posicionales sino que cada elemento tiene asociado _keyword_ (de ahí viene __K__ey__W__orded __ARG__ument__S__).\n",
    "\n",
    "Veamos algunas aplicaciones de su uso."
   ]
  },
  {
   "cell_type": "code",
   "execution_count": 36,
   "metadata": {},
   "outputs": [
    {
     "name": "stdout",
     "output_type": "stream",
     "text": [
      "{'b': 1, 'c': 2, 'd': 3}\n"
     ]
    }
   ],
   "source": [
    "diccionario = {'b': 1, 'c': 2, 'd': 3}\n",
    "\n",
    "print(diccionario) # Al imprimirse un diccionario, no respeta el orden de los argumentos."
   ]
  },
  {
   "cell_type": "markdown",
   "metadata": {},
   "source": [
    "Creemos una función que reciba argumentos con _keyword_, y pasémosle de argumento el diccionario antes creado."
   ]
  },
  {
   "cell_type": "code",
   "execution_count": 37,
   "metadata": {},
   "outputs": [
    {
     "ename": "TypeError",
     "evalue": "funcion_kwargs() takes 0 positional arguments but 1 was given",
     "output_type": "error",
     "traceback": [
      "\u001b[0;31m---------------------------------------------------------------------------\u001b[0m",
      "\u001b[0;31mTypeError\u001b[0m                                 Traceback (most recent call last)",
      "\u001b[0;32m<ipython-input-37-d560572ad913>\u001b[0m in \u001b[0;36m<module>\u001b[0;34m()\u001b[0m\n\u001b[1;32m      2\u001b[0m     \u001b[0mprint\u001b[0m\u001b[0;34m(\u001b[0m\u001b[0mkwargs\u001b[0m\u001b[0;34m)\u001b[0m\u001b[0;34m\u001b[0m\u001b[0m\n\u001b[1;32m      3\u001b[0m \u001b[0;34m\u001b[0m\u001b[0m\n\u001b[0;32m----> 4\u001b[0;31m \u001b[0mfuncion_kwargs\u001b[0m\u001b[0;34m(\u001b[0m\u001b[0mdiccionario\u001b[0m\u001b[0;34m)\u001b[0m\u001b[0;34m\u001b[0m\u001b[0m\n\u001b[0m",
      "\u001b[0;31mTypeError\u001b[0m: funcion_kwargs() takes 0 positional arguments but 1 was given"
     ]
    }
   ],
   "source": [
    "def funcion_kwargs(**kwargs):\n",
    "    print(kwargs) # Imprime el diccionario kwargs\n",
    "    \n",
    "funcion_kwargs(diccionario)"
   ]
  },
  {
   "cell_type": "markdown",
   "metadata": {},
   "source": [
    "Esto tira error porque la función `función_kwargs` está preparada para sólo recibir argumentos con _keyword_. Sin embargo, le pasamos un diccionario como argumento posicional. Para pasarle argumentos con _keyword_ asociado, se puede hacer de la siguiente manera:"
   ]
  },
  {
   "cell_type": "code",
   "execution_count": 43,
   "metadata": {},
   "outputs": [
    {
     "name": "stdout",
     "output_type": "stream",
     "text": [
      "{'argumento1': 'Soy un argumento', 'argumento2': 'Soy otro argumento'}\n"
     ]
    }
   ],
   "source": [
    "funcion_kwargs(argumento1 = \"Soy un argumento\", argumento2 = \"Soy otro argumento\")"
   ]
  },
  {
   "cell_type": "markdown",
   "metadata": {},
   "source": [
    "Otra manera es desempaquetando un diccionario. Esto se hace de manera análoga a desempaquetar una lista/tupla pero los argumentos entregados ya no serán posicionales, sino que seran _keyworded_."
   ]
  },
  {
   "cell_type": "code",
   "execution_count": 46,
   "metadata": {},
   "outputs": [
    {
     "name": "stdout",
     "output_type": "stream",
     "text": [
      "{'b': 1, 'c': 2, 'd': 3}\n"
     ]
    }
   ],
   "source": [
    "funcion_kwargs(**diccionario)"
   ]
  },
  {
   "cell_type": "markdown",
   "metadata": {},
   "source": [
    "Las funciones pueden recibir varios argumentos posicionales y no posicionales a la vez. En los próximos ejemplos, se puede apreciar esto:"
   ]
  },
  {
   "cell_type": "code",
   "execution_count": 50,
   "metadata": {},
   "outputs": [
    {
     "name": "stdout",
     "output_type": "stream",
     "text": [
      "Argumento: 5\n",
      "**kwargs : {'barco': 'Titanic'}\n"
     ]
    }
   ],
   "source": [
    "def funcion_mixta(argumento, **kwargs):\n",
    "    print(\"Argumento: {}\".format(argumento))\n",
    "    print(\"**kwargs : {}\".format(kwargs)) # Imprime el diccionario kwargs\n",
    "    \n",
    "funcion_mixta(5, barco = 'Titanic')"
   ]
  },
  {
   "cell_type": "code",
   "execution_count": 51,
   "metadata": {},
   "outputs": [
    {
     "name": "stdout",
     "output_type": "stream",
     "text": [
      "Argumento: 17\n",
      "**kwargs : {'otro': 0, 'numero': 5}\n"
     ]
    }
   ],
   "source": [
    "funcion_mixta(numero = 5, argumento = 17, otro = 0)"
   ]
  },
  {
   "cell_type": "code",
   "execution_count": 47,
   "metadata": {},
   "outputs": [
    {
     "name": "stdout",
     "output_type": "stream",
     "text": [
      "arg1: 14\n",
      "arg2: 17\n",
      "*args: (19,)\n",
      "**kwargs: {'b': 5, 'c': 8}\n"
     ]
    }
   ],
   "source": [
    "def funcion(arg1, arg2, *args, **kwargs):\n",
    "    print(\"arg1: {}\".format(arg1))\n",
    "    print(\"arg2: {}\".format(arg2))\n",
    "    print(\"*args: {}\".format(args))\n",
    "    print(\"**kwargs: {}\".format(kwargs))\n",
    "\n",
    "    \n",
    "funcion(14, 17, 19, b = 5, c = 8)"
   ]
  },
  {
   "cell_type": "markdown",
   "metadata": {},
   "source": [
    "Sin embargo, hay que tener cuidado con los nombres que se les asignan a los _keyworded arguments_. En el siguiente ejemplo, se aprecia esto útlimo:"
   ]
  },
  {
   "cell_type": "code",
   "execution_count": 48,
   "metadata": {},
   "outputs": [
    {
     "ename": "TypeError",
     "evalue": "funcion() got multiple values for argument 'arg1'",
     "output_type": "error",
     "traceback": [
      "\u001b[0;31m---------------------------------------------------------------------------\u001b[0m",
      "\u001b[0;31mTypeError\u001b[0m                                 Traceback (most recent call last)",
      "\u001b[0;32m<ipython-input-48-939f3f9f9b8a>\u001b[0m in \u001b[0;36m<module>\u001b[0;34m()\u001b[0m\n\u001b[0;32m----> 1\u001b[0;31m \u001b[0mfuncion\u001b[0m\u001b[0;34m(\u001b[0m\u001b[0;36m14\u001b[0m\u001b[0;34m,\u001b[0m \u001b[0;36m17\u001b[0m\u001b[0;34m,\u001b[0m \u001b[0;36m19\u001b[0m\u001b[0;34m,\u001b[0m \u001b[0marg1\u001b[0m \u001b[0;34m=\u001b[0m \u001b[0;36m5\u001b[0m\u001b[0;34m,\u001b[0m \u001b[0mc\u001b[0m \u001b[0;34m=\u001b[0m \u001b[0;36m8\u001b[0m\u001b[0;34m)\u001b[0m\u001b[0;34m\u001b[0m\u001b[0m\n\u001b[0m",
      "\u001b[0;31mTypeError\u001b[0m: funcion() got multiple values for argument 'arg1'"
     ]
    }
   ],
   "source": [
    "funcion(14, 17, 19, arg1 = 5, c = 8)"
   ]
  },
  {
   "cell_type": "markdown",
   "metadata": {},
   "source": [
    "# Herencia\n",
    "\n",
    "En la antigua Grecia se creía que los Dioses se infiltraban entre los hombres y concebían a semidioses con habilidades fantásticas. \n",
    "\n",
    "Más específicamente, los distintos seres poseían las siguientes características:\n",
    "\n",
    "* Dios: Los dioses tienen un nombre, un RUT único (sí.. un RUT) y un poder, el cual es un número entero. Además, pueden fanfarronear diciendo _'¡Soy el mejor DIOS!'_.\n",
    "* Hombre: Los hombres poseen nombre, un RUT único y un año de nacimiento. Los hombres también pueden saludar, pero dicen _'hola :)'_.\n",
    "* SemiDios: Los semidioses poseen todos los atributos antes mencionados.\n",
    "\n",
    "En su afán de poder revivir esta cultura, la reina Flo les encarga de modelar las distintas entidades existentes en este universo.\n",
    "\n",
    "Veamos cómo hacerlo..."
   ]
  },
  {
   "cell_type": "code",
   "execution_count": 12,
   "metadata": {
    "collapsed": true
   },
   "outputs": [],
   "source": [
    "class Ser:\n",
    "        \n",
    "        # Para hacer que un atributo sea único, podemos usar un atributo de clase auxiliar.\n",
    "        rut = 0\n",
    "\n",
    "        def __init__(self, nombre, **kwargs):\n",
    "            self.nombre = nombre\n",
    "\n",
    "            self.rut = Ser.rut # Le asignamos el rut\n",
    "            Ser.rut += 1 # Aumentamos en 1 el rut, para que no se repita\n",
    "\n",
    "        def __str__(self):\n",
    "            return \"[{}] {}\".format(self.rut, self.nombre)\n",
    "\n",
    "        def __repr__(self):\n",
    "            return \"[{}] {}\".format(self.rut, self.nombre)\n",
    "\n",
    "class Dios(Ser):\n",
    "\n",
    "    def __init__(self, poder, **kwargs):\n",
    "        super().__init__(**kwargs)\n",
    "        self.poder = poder\n",
    "\n",
    "    def fanfarronear(self):\n",
    "        print(\"¡Soy el mejor DIOS!\")\n",
    "\n",
    "    def __str__(self):\n",
    "        s = super().__str__()\n",
    "        s += \"\\nPoder: {}\".format(self.poder)\n",
    "        return s\n",
    "\n",
    "class Humano(Ser):\n",
    "\n",
    "    def __init__(self, ano_nacimiento, **kwargs):\n",
    "        super().__init__(**kwargs)\n",
    "        #Ser.__init__(self, **kwargs)\n",
    "\n",
    "        self.ano_nacimiento = ano_nacimiento\n",
    "\n",
    "    def saludar(self):\n",
    "        print(\"hola :)\")\n",
    "\n",
    "    def __str__(self):\n",
    "        s = super().__str__()\n",
    "        s += \"\\nFecha de Nacimiento: {}\".format(self.ano_nacimiento)\n",
    "        return s\n",
    "\n",
    "\n",
    "class SemiDios(Humano, Dios):\n",
    "\n",
    "    def __init__(self, **kwargs):\n",
    "        super().__init__(**kwargs)\n",
    "        #Humano.__init__(self, **kwargs)\n",
    "        #Dios.__init__(self, **kwargs)\n",
    "\n",
    "    def __str__(self):\n",
    "        return super().__str__()\n",
    "\n",
    "    "
   ]
  },
  {
   "cell_type": "markdown",
   "metadata": {},
   "source": [
    "A estas clases se les implementaron los métodos mágicos `__str__` y `__repr__`. Estos métodos ayudan a manejar la forma en que se ven representadas estas clases. Debemos recordar que si ambos métodos están implementados, entonces al imprimir de forma directa al objeto (es decir, hacer `print(objeto)`) el método que prima es `__str__`. Sin embargo, si se imprime dentro de otro objeto (por ejemplo, hacer `print([objeto])`) el que prima es `__repr__`. Veamos algunos ejemplos:"
   ]
  },
  {
   "cell_type": "code",
   "execution_count": 19,
   "metadata": {},
   "outputs": [
    {
     "name": "stdout",
     "output_type": "stream",
     "text": [
      "[[4] Seba]\n",
      "\n",
      "[4] Seba\n",
      "Fecha de Nacimiento: 1994\n",
      "Poder: 100\n"
     ]
    }
   ],
   "source": [
    "# Les entregamos los argumentos en forma de keyworded arguments:\n",
    "entidad = SemiDios(ano_nacimiento = 1994, poder = 100, nombre = 'Seba')\n",
    "\n",
    "print([entidad])\n",
    "\n",
    "print()\n",
    "\n",
    "print(entidad)"
   ]
  },
  {
   "cell_type": "markdown",
   "metadata": {},
   "source": [
    "Podemos notar que la línea de poder se imprime antes que la línea de la fecha de nacimiento. Esto se debe al _Method Resolution Order_ de la clase `SemiDios`:"
   ]
  },
  {
   "cell_type": "code",
   "execution_count": 16,
   "metadata": {},
   "outputs": [
    {
     "name": "stdout",
     "output_type": "stream",
     "text": [
      "Method Resolution Order: (<class '__main__.SemiDios'>, <class '__main__.Humano'>, <class '__main__.Dios'>, <class '__main__.Ser'>, <class 'object'>)\n"
     ]
    }
   ],
   "source": [
    "print(\"Method Resolution Order: {}\".format(SemiDios.__mro__))"
   ]
  },
  {
   "cell_type": "markdown",
   "metadata": {},
   "source": [
    "Podemos cambiar el orden en que aparecen esas características invirtiendo el orden de herencia de la clase `SemiDios`."
   ]
  },
  {
   "cell_type": "code",
   "execution_count": 17,
   "metadata": {
    "collapsed": true
   },
   "outputs": [],
   "source": [
    "\n",
    "class SemiDios(Dios, Humano):\n",
    "\n",
    "    def __str__(self):\n",
    "        return super().__str__()"
   ]
  },
  {
   "cell_type": "code",
   "execution_count": 18,
   "metadata": {},
   "outputs": [
    {
     "name": "stdout",
     "output_type": "stream",
     "text": [
      "[3] Seba\n",
      "Fecha de Nacimiento: 1994\n",
      "Poder: 100\n"
     ]
    }
   ],
   "source": [
    "entidad = SemiDios(ano_nacimiento = 1994, poder = 100, nombre = 'Seba')\n",
    "\n",
    "print(entidad)"
   ]
  },
  {
   "cell_type": "markdown",
   "metadata": {},
   "source": [
    "# Properties\n",
    "\n",
    "- ¿Para qué nos sirven?\n",
    "- ¿Cómo se implementan en una clase?\n",
    "- ¿Qué hace el setter? ¿Qué hace el getter?\n",
    "\n",
    "Supongamos que tenemos la siguiente clase implementada, pero queremos hacer dos cosas. \n",
    "\n",
    "En primer lugar, queremos hacer que el estado de vivo o muerto sea tratado como si fuera un atributo (¿Por qué queremos hacer esto?)\n",
    "\n",
    "En segundo lugar, queremos agregarle restricciones sobre los valores que puede tener la vida actual. ¿Cómo lo podemos hacer?"
   ]
  },
  {
   "cell_type": "code",
   "execution_count": 5,
   "metadata": {},
   "outputs": [
    {
     "name": "stdout",
     "output_type": "stream",
     "text": [
      "True\n",
      "-900\n",
      "False\n"
     ]
    }
   ],
   "source": [
    "class Minion:\n",
    "    _id = 0\n",
    "\n",
    "    def __init__(self, vida_maxima):\n",
    "        self._id = Minion._id \n",
    "        Minion._id += 1\n",
    "        self.vida_maxima = vida_maxima\n",
    "        self.vida_actual = vida_maxima\n",
    "\n",
    "    def vivo(self):\n",
    "        return self.vida_actual > 0\n",
    "\n",
    "\n",
    "minion = Minion(100)\n",
    "print(minion.vivo())\n",
    "minion.vida_actual -= 1000\n",
    "print(minion.vida_actual)\n",
    "print(minion.vivo())"
   ]
  },
  {
   "cell_type": "markdown",
   "metadata": {},
   "source": [
    "En este caso las properties que se deben crear son las siguientes:\n",
    "\n",
    "- `self.vivo`: Debemos crear sólo el _getter_ para que se comporte como un atributo\n",
    "- `self.vida_actual`: Debemos crear el _getter_ y el _setter_ para poder restringir las modificaciones a este atributo.\n",
    "    \n",
    "A continuación, se muestran las _properties_ implementadas:"
   ]
  },
  {
   "cell_type": "code",
   "execution_count": 7,
   "metadata": {},
   "outputs": [
    {
     "name": "stdout",
     "output_type": "stream",
     "text": [
      "True\n",
      "0\n",
      "False\n"
     ]
    }
   ],
   "source": [
    "class Minion:\n",
    "    _id = 0\n",
    "\n",
    "    def __init__(self, vida_maxima):\n",
    "\n",
    "        self._id = Minion._id \n",
    "        Minion._id += 1\n",
    "\n",
    "        self.vida_maxima = vida_maxima\n",
    "        self.__vida_actual = vida_maxima\n",
    "\n",
    "    @property\n",
    "    def vivo(self):\n",
    "        return self.__vida_actual > 0\n",
    "    \n",
    "    @property\n",
    "    def vida_actual(self):\n",
    "        return self.__vida_actual\n",
    "\n",
    "    @vida_actual.setter\n",
    "    def vida_actual(self, value):\n",
    "        if value < 0:\n",
    "            self.__vida_actual = 0\n",
    "        elif value > self.vida_maxima:\n",
    "            self.__vida_actual = vida_maxima\n",
    "        else:\n",
    "            self.__vida_actual = value\n",
    "\n",
    "\n",
    "minion = Minion(100)\n",
    "print(minion.vivo)\n",
    "minion.vida_actual -= 1000\n",
    "print(minion.vida_actual)\n",
    "print(minion.vivo)"
   ]
  },
  {
   "cell_type": "code",
   "execution_count": null,
   "metadata": {
    "collapsed": true
   },
   "outputs": [],
   "source": []
  }
 ],
 "metadata": {
  "kernelspec": {
   "display_name": "Python 3",
   "language": "python",
   "name": "python3"
  },
  "language_info": {
   "codemirror_mode": {
    "name": "ipython",
    "version": 3
   },
   "file_extension": ".py",
   "mimetype": "text/x-python",
   "name": "python",
   "nbconvert_exporter": "python",
   "pygments_lexer": "ipython3",
   "version": "3.5.2"
  }
 },
 "nbformat": 4,
 "nbformat_minor": 2
}
