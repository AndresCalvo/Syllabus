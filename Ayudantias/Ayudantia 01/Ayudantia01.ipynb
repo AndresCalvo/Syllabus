{
 "cells": [
  {
   "cell_type": "markdown",
   "metadata": {},
   "source": [
    "## ARGS y KWARGS\n",
    "\n",
    "En esta instancia, solo nos preocuparemos de entender cómo funcionan los args y los kwargs. Para esto, veamos algunos ejemplos en vivo de como funcionan y discutamos de que es lo que ocurre."
   ]
  },
  {
   "cell_type": "markdown",
   "metadata": {},
   "source": [
    "# Herencia\n",
    "\n",
    "En la antigua Grecia se creía que los Dioses se infiltraban entre los hombres y concebían a semidioses con habilidades fantásticas. \n",
    "\n",
    "Más específicamente, los distintos seres poseían las siguientes características:\n",
    "\n",
    "* Dios: Los dioses tienen un nombre, un RUT único (sí.. un RUT) y un poder, el cual es un número entero. Además, pueden fanfarronear diciendo _'¡Soy el mejor DIOS!'_.\n",
    "* Hombre: Los hombres poseen nombre, un RUT único y un año de nacimiento. Los hombres también pueden saludar, pero dicen _'hola :)'_.\n",
    "* SemiDios: Los semidioses poseen todos los atributos antes mencionados.\n",
    "\n",
    "En su afán de poder revivir esta cultura, la reina Flo les encarga de modelar las distintas entidades existentes en este universo.\n",
    "\n",
    "Veamos como hacerlo..."
   ]
  },
  {
   "cell_type": "code",
   "execution_count": null,
   "metadata": {
    "collapsed": true
   },
   "outputs": [],
   "source": [
    "class Ser:\n",
    "\n",
    "    rut = 0\n",
    "\n",
    "    def __init__(self, nombre):\n",
    "        pass\n",
    "\n",
    "    def __str__(self):\n",
    "        pass\n",
    "        \n",
    "    def __repr__(self):\n",
    "        pass\n",
    "        \n",
    "class Dios():\n",
    "\n",
    "    def __init__(self, poder):\n",
    "        pass\n",
    "\n",
    "    def fanfarronear(self):\n",
    "        pass\n",
    "    \n",
    "    def __str__(self):\n",
    "        pass\n",
    "\n",
    "class Humano():\n",
    "\n",
    "    def __init__(self, ano_nacimiento):\n",
    "        pass\n",
    "\n",
    "\n",
    "    def saludar(self):\n",
    "        pass\n",
    "\n",
    "    def __str__(self):\n",
    "        pass\n",
    "\n",
    "\n",
    "class SemiDios():\n",
    "\n",
    "    def __init__(self):\n",
    "        pass\n",
    "\n",
    "    def __str__(self):\n",
    "        pass\n",
    "\n",
    "\n",
    "\n",
    "entidad = SemiDios(ano_nacimiento = 1994, poder = 100, nombre = 'Seba')\n",
    "\n",
    "print(\"Seres creados:\",Ser.rut)\n",
    "print(entidad)\n",
    "\n",
    "entidad2 = SemiDios(ano_nacimiento = 1994, poder = 10000, nombre = 'Benja')\n",
    "print(\"Seres creados:\",Ser.rut)\n",
    "print(entidad2)\n",
    "\n",
    "entidad.saludar()\n",
    "\n",
    "print(SemiDios.__mro__)"
   ]
  },
  {
   "cell_type": "markdown",
   "metadata": {},
   "source": [
    "# Properties\n",
    "\n",
    "- ¿Para qué nos sirven?\n",
    "- ¿Cómo se implementan en una clase?\n",
    "- ¿Qué hace el setter? ¿Qué hace el getter?\n",
    "\n",
    "Supongamos que tenemos la siguiente clase implementada, pero queremos hacer dos cosas. \n",
    "\n",
    "En primer lugar, queremos hacer que el estado de vivo o muerto sea tratado como si fuera un atributo (¿Por qué queremos hacer esto?)\n",
    "\n",
    "En segundo lugar, queremos agregarle restricciones sobre los valores que puede tener la vida actual. ¿Cómo lo podemos hacer?"
   ]
  },
  {
   "cell_type": "code",
   "execution_count": null,
   "metadata": {
    "collapsed": true
   },
   "outputs": [],
   "source": [
    "class Minion:\n",
    "    _id = 0\n",
    "\n",
    "    def __init__(self, vida_maxima):\n",
    "        self._id = Minion._id \n",
    "        Minion._id += 1\n",
    "        self.vida_maxima = vida_maxima\n",
    "        self.vida_actual = vida_maxima\n",
    "\n",
    "    def vivo(self):\n",
    "        return self.vida_actual > 0\n",
    "\n",
    "\n",
    "minion = Minion(100)\n",
    "print(minion.vivo())\n",
    "minion.vida_actual -= 1000\n",
    "print(minion.vivo())"
   ]
  }
 ],
 "metadata": {
  "kernelspec": {
   "display_name": "Python 3",
   "language": "python",
   "name": "python3"
  },
  "language_info": {
   "codemirror_mode": {
    "name": "ipython",
    "version": 3
   },
   "file_extension": ".py",
   "mimetype": "text/x-python",
   "name": "python",
   "nbconvert_exporter": "python",
   "pygments_lexer": "ipython3",
   "version": "3.6.3"
  }
 },
 "nbformat": 4,
 "nbformat_minor": 2
}
