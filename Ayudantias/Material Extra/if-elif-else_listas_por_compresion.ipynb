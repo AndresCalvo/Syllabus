{
 "cells": [
  {
   "cell_type": "code",
   "execution_count": 1,
   "metadata": {
    "collapsed": true
   },
   "outputs": [],
   "source": [
    "__author__ = \"Javier Dreves\""
   ]
  },
  {
   "cell_type": "markdown",
   "metadata": {},
   "source": [
    "## Uso de _if-else_ en listas por comprensión.\n",
    "\n",
    "\n",
    "\n",
    "Para todos los ejemplos utilizaremos la siguiente lista:"
   ]
  },
  {
   "cell_type": "code",
   "execution_count": 12,
   "metadata": {
    "collapsed": true
   },
   "outputs": [],
   "source": [
    "lista = [0, 1, 2, 3, 4, 5, 6, 7, 8, 9, 10]\n",
    "## esta lista se podria crear usando listas por comprensión como:  lista = [i for i in range(0, 11)]"
   ]
  },
  {
   "cell_type": "markdown",
   "metadata": {},
   "source": [
    "- Si queremos todos los números mayores a 5, normalmente haríamos lo siguiente:"
   ]
  },
  {
   "cell_type": "code",
   "execution_count": 3,
   "metadata": {},
   "outputs": [
    {
     "name": "stdout",
     "output_type": "stream",
     "text": [
      "[6, 7, 8, 9, 10]\n"
     ]
    }
   ],
   "source": [
    "nueva_lista = []\n",
    "for i in lista:\n",
    "    if i > 5:\n",
    "        nueva_lista.append(i)\n",
    "        \n",
    "print(nueva_lista)"
   ]
  },
  {
   "cell_type": "markdown",
   "metadata": {},
   "source": [
    "- Ahora usando listas por comprensión:"
   ]
  },
  {
   "cell_type": "code",
   "execution_count": 4,
   "metadata": {},
   "outputs": [
    {
     "name": "stdout",
     "output_type": "stream",
     "text": [
      "[6, 7, 8, 9, 10]\n"
     ]
    }
   ],
   "source": [
    "nueva_lista = [i for i in lista if i > 5]\n",
    "print(nueva_lista)"
   ]
  },
  {
   "cell_type": "markdown",
   "metadata": {},
   "source": [
    "- Si queremos todos los números mayores a 5 y menores a 8, podemos hacerlo añadiendo un operador lógico dentro del `if`. "
   ]
  },
  {
   "cell_type": "code",
   "execution_count": 5,
   "metadata": {},
   "outputs": [
    {
     "name": "stdout",
     "output_type": "stream",
     "text": [
      "[6, 7]\n"
     ]
    }
   ],
   "source": [
    "nueva_lista = [i for i in lista if i > 5 and i < 8]\n",
    "print(nueva_lista)"
   ]
  },
  {
   "cell_type": "markdown",
   "metadata": {},
   "source": [
    "- Si ahora queremos una lista donde los números pares sean multiplicados por 2 y los números impares multiplicados por 3, podemos hacer lo siguiente:"
   ]
  },
  {
   "cell_type": "code",
   "execution_count": 6,
   "metadata": {},
   "outputs": [
    {
     "name": "stdout",
     "output_type": "stream",
     "text": [
      "[0, 3, 4, 9, 8, 15, 12, 21, 16, 27, 20]\n"
     ]
    }
   ],
   "source": [
    "nueva_lista = [i*2 if i%2 == 0 else i*3 for i in lista]\n",
    "print(nueva_lista)"
   ]
  },
  {
   "cell_type": "markdown",
   "metadata": {},
   "source": [
    "- Si lo anterior lo queremos aplicar sólo a los números mayores a 5, nos queda lo siguiente:"
   ]
  },
  {
   "cell_type": "code",
   "execution_count": 7,
   "metadata": {},
   "outputs": [
    {
     "name": "stdout",
     "output_type": "stream",
     "text": [
      "[12, 21, 16, 27, 20]\n"
     ]
    }
   ],
   "source": [
    "nueva_lista = [i*2 if i%2 == 0 else i*3 for i in lista if i > 5]\n",
    "print(nueva_lista)"
   ]
  },
  {
   "cell_type": "markdown",
   "metadata": {},
   "source": [
    "- Si ahora deseamos una lista donde los números menores a 4 sean multiplicados por 2, los números entre 4 y 7 sean multiplicados por 3 y los números mayores a 7 multiplicados por 4, normalmente haríamos algo como lo siguiente:"
   ]
  },
  {
   "cell_type": "code",
   "execution_count": 8,
   "metadata": {},
   "outputs": [
    {
     "name": "stdout",
     "output_type": "stream",
     "text": [
      "[0, 2, 4, 6, 12, 15, 18, 21, 32, 36, 40]\n"
     ]
    }
   ],
   "source": [
    "nueva_lista = []\n",
    "for i in lista:\n",
    "    if i < 4:\n",
    "        nueva_lista.append(i * 2)\n",
    "    \n",
    "    elif i >= 4 and i <= 7:\n",
    "        nueva_lista.append(i * 3)\n",
    "        \n",
    "    else:\n",
    "        nueva_lista.append(i * 4)\n",
    "\n",
    "print(nueva_lista)"
   ]
  },
  {
   "cell_type": "markdown",
   "metadata": {},
   "source": [
    "- Este ejemplo también lo podemos realizar dentro de una lista de comprensión, quedando lo siguiente:"
   ]
  },
  {
   "cell_type": "code",
   "execution_count": 9,
   "metadata": {},
   "outputs": [
    {
     "name": "stdout",
     "output_type": "stream",
     "text": [
      "[0, 2, 4, 6, 12, 15, 18, 21, 32, 36, 40]\n"
     ]
    }
   ],
   "source": [
    "nueva_lista = [i*2 if i<4 else i*3 if i>=4 and i<=7 else i*4 for i in lista]\n",
    "print(nueva_lista)"
   ]
  },
  {
   "cell_type": "markdown",
   "metadata": {},
   "source": [
    "- Si ahora queremos aplicar esto a los números menores a 3 o mayores a 7 nos queda lo siguiente:"
   ]
  },
  {
   "cell_type": "code",
   "execution_count": 10,
   "metadata": {},
   "outputs": [
    {
     "name": "stdout",
     "output_type": "stream",
     "text": [
      "[0, 2, 4, 32, 36, 40]\n"
     ]
    }
   ],
   "source": [
    "nueva_lista = [i*2 if i<4 else i*3 if i>=4 and i<=7 else i*4 for i in lista if i < 3 or i > 7]\n",
    "print(nueva_lista)"
   ]
  },
  {
   "cell_type": "markdown",
   "metadata": {},
   "source": [
    "- Así como implementamos este \"elif\" dentro de la lista por comprensión, podemos crear los \"elif\" que queramos siguiendo esta misma lógica.\n",
    "\n",
    "\n",
    "- A modo de resumen podemos generalizar todo lo que hemos visto de la siguiente manera:\n",
    "\n",
    "```{python3}\n",
    "lista por compresion = [expresion for elemento in lista if condicion]\n",
    "```\n",
    "lo que sería el equivalente a:\n",
    "\n",
    "```{python3}\n",
    "for elemento in lista:\n",
    "    if condicion:\n",
    "        expresion```\n",
    "        \n",
    "generalización obtenida de [esta página](https://stackoverflow.com/questions/4406389/if-else-in-a-list-comprehension)\n",
    "        \n",
    " \n"
   ]
  },
  {
   "cell_type": "markdown",
   "metadata": {},
   "source": [
    "- En todas las expresiones donde creamos listas por comprensión, lo que estamos haciendo es instanciar un generador como una lista. No esta de más decir que esto se puede aplicar para muchas estructuras de datos, por ejemplo tuplas, sets entre otros. Utilizando el último ejemplo, este nos quedaría en otras estructuras como:"
   ]
  },
  {
   "cell_type": "code",
   "execution_count": 11,
   "metadata": {},
   "outputs": [
    {
     "name": "stdout",
     "output_type": "stream",
     "text": [
      "[0, 2, 4, 32, 36, 40]\n",
      "(0, 2, 4, 32, 36, 40)\n",
      "{0, 32, 2, 4, 36, 40}\n",
      "deque([0, 2, 4, 32, 36, 40])\n",
      "{0: 0, 1: 2, 2: 4, 8: 32, 9: 36, 10: 40}\n"
     ]
    }
   ],
   "source": [
    "from collections import deque\n",
    "\n",
    "nueva_lista = list(i*2 if i<4 else i*3 if i>=4 and i<=7 else i*4 for i in lista if i < 3 or i > 7)\n",
    "nueva_tupla = tuple(i*2 if i<4 else i*3 if i>=4 and i<=7 else i*4 for i in lista if i < 3 or i > 7)\n",
    "nuevo_set = set(i*2 if i<4 else i*3 if i>=4 and i<=7 else i*4 for i in lista if i < 3 or i > 7)\n",
    "nuevo_deque = deque(i*2 if i<4 else i*3 if i>=4 and i<=7 else i*4 for i in lista if i < 3 or i > 7)\n",
    "nuevo_diccionario = {key[0] :value*2 if value<4 else value*3 if value>=4 and value<=7\n",
    "                     else value*4 for key, value in zip(enumerate(lista), lista) if value < 3 or value > 7}\n",
    "\n",
    "print(nueva_lista)\n",
    "print(nueva_tupla)\n",
    "print(nuevo_set)\n",
    "print(nuevo_deque)\n",
    "print(nuevo_diccionario)\n"
   ]
  },
  {
   "cell_type": "markdown",
   "metadata": {},
   "source": [
    "- Si desean interiorizarse más en el tema y quieren ver la comparación de eficiencia y tiempo de ejecución usando _loops_, listas por comprensión y `map`; les recomiendo visitar la [siguiente página](http://leadsift.com/loop-map-list-comprehension/)"
   ]
  },
  {
   "cell_type": "code",
   "execution_count": null,
   "metadata": {
    "collapsed": true
   },
   "outputs": [],
   "source": []
  }
 ],
 "metadata": {
  "kernelspec": {
   "display_name": "Python 3",
   "language": "python",
   "name": "python3"
  },
  "language_info": {
   "codemirror_mode": {
    "name": "ipython",
    "version": 3
   },
   "file_extension": ".py",
   "mimetype": "text/x-python",
   "name": "python",
   "nbconvert_exporter": "python",
   "pygments_lexer": "ipython3",
   "version": "3.5.2"
  }
 },
 "nbformat": 4,
 "nbformat_minor": 2
}
