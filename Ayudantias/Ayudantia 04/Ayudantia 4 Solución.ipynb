{
 "cells": [
  {
   "cell_type": "markdown",
   "metadata": {},
   "source": [
    "# Ayudantía 4\n",
    "\n",
    "Nicolás Maturana y Gabriel Lyon\n",
    "\n",
    "## Solución AC05 2017-2\n",
    "\n",
    "### Excepciones y Testing\n",
    "\n",
    "El enunciado completo de esta actividad se encuentra [aquí](https://github.com/IIC2233/Syllabus-2017-2/blob/master/Actividades/AC05/Enunciado%20AC05.pdf)."
   ]
  },
  {
   "cell_type": "markdown",
   "metadata": {
    "collapsed": true
   },
   "source": [
    "## Introducción\n",
    "El Departamento de Ciencia de la Computación (DCC) se ha percatado de que muchos de sus cursos se quedan\n",
    "sin cupos y, por lo tanto, ha creado un formulario para que sus alumnos puedan indicar qué cursos necesitan\n",
    "tomar. En este formulario los alumnos debían completar los siguientes datos:\n",
    "    - Nombre\n",
    "    - Sexualidad\n",
    "    - RUT \n",
    "    - Sigla de curso\n",
    "    - Sección\n",
    "    - Comentario\n",
    "\n",
    "Además, el DCC ha creado una librería para analizar las respuestas del formulario (la cual encontramos en `form.py`). \n",
    "\n",
    "Sin embargo, esta librería no considera varias situaciones que iremos detallando a continuación:\n",
    "\n",
    "## Levantamiento de Excepciones\n",
    "\n",
    "El archivo `form.py` contiene a la clase `FormRegister` con varios métodos que no logran procesar algunas respuestas de los alumnos, de tal forma que nosotros debemos levantar excepciones cuando ocurra algo que no queremos.\n",
    "\n",
    "El `__init__` de la clase `FormRegister` es el siguiente:"
   ]
  },
  {
   "cell_type": "code",
   "execution_count": 2,
   "metadata": {
    "collapsed": true
   },
   "outputs": [],
   "source": [
    "import jdc\n",
    "\n",
    "class FormRegister:\n",
    "    def __init__(self):\n",
    "        \"\"\"\n",
    "        NO TOCAR el init\n",
    "        \"\"\"\n",
    "        self.courses = {\n",
    "            \"IIC1103\": [0, 0, 0],  # IIC1103 tiene 2 secciones\n",
    "            \"IIC2233\": [0, 0, 0, 0],  # IIC2233 tiene 3 secciones\n",
    "            \"IIC2115\": [0, 0],  # IIC2115 tiene 1 seccion\n",
    "            \"IIE3115\": [0, 0],  # IIC2115 tiene 1 seccion\n",
    "            \"IIC2332\": [0, 0],  # IIC2115 tiene 1 seccion\n",
    "            \"IIC2515\": [0, 0]  # IIC2115 tiene 1 seccion\n",
    "        }\n",
    "\n",
    "        self.register_list = []  # Almacena los alumnos que se inscribieron con exito"
   ]
  },
  {
   "cell_type": "markdown",
   "metadata": {},
   "source": [
    "Además, la libreria tiene los metodos:\n",
    "\n",
    "**`check_rut(rut)`:** Este método verifica que el rut sea válido, es decir, el dígito verificador corresponde al rut. Este debe venir en el siguiente formato:\n",
    "    - Sin puntos\n",
    "    - Guío y el dígito verificador. Ej: 19829694-5. \n",
    "    \n",
    "Si el rut resulta ser válido retorna `True`, si no, `False`. Lo que se pide para este método es levantar una excepción cuando el RUT viene con puntos, o en vez de guión hay un espacio."
   ]
  },
  {
   "cell_type": "code",
   "execution_count": 1,
   "metadata": {
    "collapsed": true
   },
   "outputs": [],
   "source": [
    "\n",
    "def check_rut(self, rut):\n",
    "        # Verificamos si existen puntos en el rut o no hay un guion, en ese caso levantamos una excepcion.\n",
    "        if '.' in rut:\n",
    "            raise ValueError('El rut debe ir sin puntos.')\n",
    "        if '-' != rut[-2]:\n",
    "            raise ValueError('El rut debe tener guion.')\n",
    "\n",
    "        # En caso contrario se deja que el codigo haga su trabajo de verificar si el rut es correcto.\n",
    "        digits, checker = rut.split(\"-\")\n",
    "        digits = list(digits)\n",
    "\n",
    "        for i in range(len(digits)):\n",
    "            digits[i] = int(digits[i])\n",
    "\n",
    "        list_number = [2, 3, 4, 5, 6, 7, 2, 3, 4, 5]\n",
    "\n",
    "        digits.reverse()\n",
    "        total = 0\n",
    "        for i in range(len(digits)):\n",
    "            total += digits[i] * list_number[i]\n",
    "\n",
    "        rest = 11 - total % 11\n",
    "        if rest == 11:\n",
    "            rest = \"0\"\n",
    "        elif rest == 10:\n",
    "            rest = \"k\"\n",
    "        else:\n",
    "            rest = str(rest)\n",
    "\n",
    "        return rest == checker"
   ]
  },
  {
   "cell_type": "markdown",
   "metadata": {},
   "source": [
    "- **`add_course(course, section)`:** Este método añade al diccionario `self.courses` la demanda del curso indicado. El curso debe venir con la sigla del departamento y la sigla numérica sin espacios. Ej: IIC2233.\n",
    "\n",
    "Se pide levantar una excepción cuándo exista un espacio en la sigla. Además, otra excepción si no existe el número de sección en la clase `FormRegister`. Concretamente, puede venir con 4 tipos de eventualidades: \n",
    "\n",
    " > - Hay un espacio en la sigla\n",
    " > - La sección vino escrita como \"todas\" en vez del numero\n",
    " > - La sección fue ingresada con texto en el formato \"section N\"\n",
    " > - La sección no existe."
   ]
  },
  {
   "cell_type": "code",
   "execution_count": 2,
   "metadata": {
    "collapsed": true
   },
   "outputs": [],
   "source": [
    "\n",
    "def add_course(self, course, section):\n",
    "\n",
    "    # Hay un espacio en la sigla\n",
    "    if ' ' in course:\n",
    "        raise KeyError('La sigla del curso debe ir sin espacio (XXXX123).')    \n",
    "\n",
    "    # La seccion vino escrita como todas en vez del numero\n",
    "    if section == 'todas':\n",
    "        raise ValueError('La seccion debe ser un numero.')\n",
    "\n",
    "    #La seccion fue ingresada con texto en el formato \"section N\"\n",
    "    if isinstance(section, str):\n",
    "        if section[:-2] == \"section\":\n",
    "            raise ValueError('La seccion debe ser un numero.')\n",
    "\n",
    "    # La seccion no existe.\n",
    "    if int(section) > len(self.courses[course]) - 1 or int(section) < 0:\n",
    "        raise IndexError('No existe la seccion {}.'.format(section))\n",
    "\n",
    "    self.courses[course][int(section)] += 1"
   ]
  },
  {
   "cell_type": "markdown",
   "metadata": {},
   "source": [
    "Además, la librería tiene 2 métodos que no debían ser modificados:\n",
    "\n",
    "- **`register_people_info(student_name, gender, comment)`:** Este método se llama después de verificar el RUT, en caso de que sea correcto se guarda la informacion del estudiante en una base de datos temporal.\n",
    "- **`save_data(path)`:** Dado un path, genera un archivo con todos los usuarios registrados en la base de datos temporal y deja vacía esa base de datos."
   ]
  },
  {
   "cell_type": "code",
   "execution_count": 3,
   "metadata": {
    "collapsed": true
   },
   "outputs": [],
   "source": [
    "\n",
    "def register_people_info(self, student_name, gender, comment):\n",
    "        self.register_list.append([student_name, gender, comment])\n",
    "\n",
    "def save_data(self, path):\n",
    "    with open(path, \"w\") as file:\n",
    "        for register in self.register_list:\n",
    "            text = \"Student: {}\\nGender: {}\\nComment: {}\\n\".format(*register)\n",
    "            file.write(text + \"#\"*40 + \"\\n\")\n",
    "\n",
    "        print(\"Informacion guardada con exito\")"
   ]
  },
  {
   "cell_type": "markdown",
   "metadata": {},
   "source": [
    "Por lo tanto la clase `FormRegister` queda finalmente como:"
   ]
  },
  {
   "cell_type": "code",
   "execution_count": 4,
   "metadata": {
    "collapsed": true
   },
   "outputs": [],
   "source": [
    "class FormRegister:\n",
    "    def __init__(self):\n",
    "        \"\"\"\n",
    "        NO TOCAR el init\n",
    "        \"\"\"\n",
    "        self.courses = {\n",
    "            \"IIC1103\": [0, 0, 0],  # IIC1103 tiene 2 secciones\n",
    "            \"IIC2233\": [0, 0, 0, 0],  # IIC2233 tiene 3 secciones\n",
    "            \"IIC2115\": [0, 0],  # IIC2115 tiene 1 seccion\n",
    "            \"IIE3115\": [0, 0],  # IIC2115 tiene 1 seccion\n",
    "            \"IIC2332\": [0, 0],  # IIC2115 tiene 1 seccion\n",
    "            \"IIC2515\": [0, 0]  # IIC2115 tiene 1 seccion\n",
    "        }\n",
    "\n",
    "        self.register_list = []  # Almacena los alumnos que se inscribieron con exito\n",
    "        \n",
    "    def check_rut(self, rut):\n",
    "        # Verificamos si existen puntos en el rut o no hay un guion, en ese caso levantamos una excepcion.\n",
    "        if '.' in rut:\n",
    "            raise ValueError('El rut debe ir sin puntos.')\n",
    "        if '-' != rut[-2]:\n",
    "            raise ValueError('El rut debe tener guion.')\n",
    "\n",
    "        # En caso contrario se deja que el codigo haga su trabajo de verificar si el rut es correcto.\n",
    "        digits, checker = rut.split(\"-\")\n",
    "        digits = list(digits)\n",
    "\n",
    "        for i in range(len(digits)):\n",
    "            digits[i] = int(digits[i])\n",
    "\n",
    "        list_number = [2, 3, 4, 5, 6, 7, 2, 3, 4, 5]\n",
    "\n",
    "        digits.reverse()\n",
    "        total = 0\n",
    "        for i in range(len(digits)):\n",
    "            total += digits[i] * list_number[i]\n",
    "\n",
    "        rest = 11 - total % 11\n",
    "        if rest == 11:\n",
    "            rest = \"0\"\n",
    "        elif rest == 10:\n",
    "            rest = \"k\"\n",
    "        else:\n",
    "            rest = str(rest)\n",
    "\n",
    "        return rest == checker\n",
    "    \n",
    "    \n",
    "    def add_course(self, course, section):\n",
    "\n",
    "        # Hay un espacio en la sigla\n",
    "        if ' ' in course:\n",
    "            raise KeyError('La sigla del curso debe ir sin espacio (XXXX123).')    \n",
    "\n",
    "        # La seccion vino escrita como todas en vez del numero\n",
    "        if section == 'todas':\n",
    "            raise ValueError('La seccion debe ser un numero.')\n",
    "\n",
    "        #La seccion fue ingresada con texto en el formato \"section N\"\n",
    "        if isinstance(section, str):\n",
    "            if section[:-2] == \"section\":\n",
    "                raise ValueError('La seccion debe ser un numero.')\n",
    "\n",
    "        # La seccion no existe.\n",
    "        if int(section) > len(self.courses[course]) - 1 or int(section) < 0:\n",
    "            raise IndexError('No existe la seccion {}.'.format(section))\n",
    "\n",
    "        self.courses[course][int(section)] += 1\n",
    "        \n",
    "    def register_people_info(self, student_name, gender, comment):\n",
    "        self.register_list.append([student_name, gender, comment])\n",
    "\n",
    "    def save_data(self, path):\n",
    "        with open(path, \"w\") as file:\n",
    "            for register in self.register_list:\n",
    "                text = \"Student: {}\\nGender: {}\\nComment: {}\\n\".format(*register)\n",
    "                file.write(text + \"#\"*40 + \"\\n\")\n",
    "\n",
    "            print(\"Informacion guardada con exito\")"
   ]
  },
  {
   "cell_type": "markdown",
   "metadata": {},
   "source": [
    "Con esto concluye la primera parte de la actividad (levantamiento de excepciones).\n",
    "\n",
    "## Manejo de Excepciones\n",
    "\n",
    "Para esta parte se debe manejar las excepciones desde el el código escrito en `AC05.py`, el cual inicialmente se ve de la siguiente forma:"
   ]
  },
  {
   "cell_type": "code",
   "execution_count": 5,
   "metadata": {},
   "outputs": [
    {
     "ename": "KeyError",
     "evalue": "'La sigla del curso debe ir sin espacio (XXXX123).'",
     "output_type": "error",
     "traceback": [
      "\u001b[0;31m---------------------------------------------------------------------------\u001b[0m",
      "\u001b[0;31mKeyError\u001b[0m                                  Traceback (most recent call last)",
      "\u001b[0;32m<ipython-input-5-0f85c9983ce4>\u001b[0m in \u001b[0;36m<module>\u001b[0;34m()\u001b[0m\n\u001b[1;32m     10\u001b[0m \u001b[0;34m\u001b[0m\u001b[0m\n\u001b[1;32m     11\u001b[0m         \u001b[0;32mif\u001b[0m \u001b[0mrut_verified\u001b[0m\u001b[0;34m:\u001b[0m\u001b[0;34m\u001b[0m\u001b[0m\n\u001b[0;32m---> 12\u001b[0;31m             \u001b[0mform\u001b[0m\u001b[0;34m.\u001b[0m\u001b[0madd_course\u001b[0m\u001b[0;34m(\u001b[0m\u001b[0mcourse\u001b[0m\u001b[0;34m,\u001b[0m \u001b[0msection\u001b[0m\u001b[0;34m)\u001b[0m\u001b[0;34m\u001b[0m\u001b[0m\n\u001b[0m\u001b[1;32m     13\u001b[0m \u001b[0;34m\u001b[0m\u001b[0m\n\u001b[1;32m     14\u001b[0m             \u001b[0mform\u001b[0m\u001b[0;34m.\u001b[0m\u001b[0mregister_people_info\u001b[0m\u001b[0;34m(\u001b[0m\u001b[0mname\u001b[0m\u001b[0;34m,\u001b[0m \u001b[0mgender\u001b[0m\u001b[0;34m,\u001b[0m \u001b[0mcomment\u001b[0m\u001b[0;34m)\u001b[0m\u001b[0;34m\u001b[0m\u001b[0m\n",
      "\u001b[0;32m<ipython-input-4-2cb07c0c4202>\u001b[0m in \u001b[0;36madd_course\u001b[0;34m(self, course, section)\u001b[0m\n\u001b[1;32m     51\u001b[0m         \u001b[0;31m# Hay un espacio en la sigla\u001b[0m\u001b[0;34m\u001b[0m\u001b[0;34m\u001b[0m\u001b[0m\n\u001b[1;32m     52\u001b[0m         \u001b[0;32mif\u001b[0m \u001b[0;34m' '\u001b[0m \u001b[0;32min\u001b[0m \u001b[0mcourse\u001b[0m\u001b[0;34m:\u001b[0m\u001b[0;34m\u001b[0m\u001b[0m\n\u001b[0;32m---> 53\u001b[0;31m             \u001b[0;32mraise\u001b[0m \u001b[0mKeyError\u001b[0m\u001b[0;34m(\u001b[0m\u001b[0;34m'La sigla del curso debe ir sin espacio (XXXX123).'\u001b[0m\u001b[0;34m)\u001b[0m\u001b[0;34m\u001b[0m\u001b[0m\n\u001b[0m\u001b[1;32m     54\u001b[0m \u001b[0;34m\u001b[0m\u001b[0m\n\u001b[1;32m     55\u001b[0m         \u001b[0;31m# La seccion vino escrita como todas en vez del numero\u001b[0m\u001b[0;34m\u001b[0m\u001b[0;34m\u001b[0m\u001b[0m\n",
      "\u001b[0;31mKeyError\u001b[0m: 'La sigla del curso debe ir sin espacio (XXXX123).'"
     ]
    }
   ],
   "source": [
    "form = FormRegister()\n",
    "\n",
    "with open(\"test.txt\") as test_file:\n",
    "\n",
    "    for line in test_file:\n",
    "        name, gender, rut, course, section, comment = line.split(\";\")\n",
    "        comment = comment.strip(\"\\n\")\n",
    "\n",
    "        rut_verified = form.check_rut(rut)\n",
    "\n",
    "        if rut_verified:\n",
    "            form.add_course(course, section)\n",
    "\n",
    "            form.register_people_info(name, gender, comment)\n",
    "\n",
    "    form.save_data(\"result.txt\")"
   ]
  },
  {
   "cell_type": "markdown",
   "metadata": {},
   "source": [
    "Lo que se debe hacer es un buen uso de `Try`/`Except` para manejar las excepciones según lo pedido.\n",
    "\n",
    "> - Si un RUT tienen punto/s, o bien, no está con guión, arreglarlos. Ej: 19.829.694 5 -> 19829694-5\n",
    "> - Si los cursos tienen un espacio, se elimina el espacio. Ej: IIC 2233 -> IIC2233\n",
    "> - Si el número de sección no existe, se deja como 0. Ej: 888 -> 0\n",
    "> - Si la sección es \"todas\", se cambia por 0. Ej: \"todas\" -> 0\n",
    "> - Si la sección es de tipo \"section N\", se cambia por N. Ej: \"section 5\" -> 5"
   ]
  },
  {
   "cell_type": "code",
   "execution_count": 6,
   "metadata": {},
   "outputs": [],
   "source": [
    "form = FormRegister()\n",
    "\n",
    "with open(\"test.txt\") as test_file:\n",
    "\n",
    "    for line in test_file:\n",
    "        name, gender, rut, course, section, comment = line.split(\";\")\n",
    "        comment = comment.strip(\"\\n\")\n",
    "\n",
    "        try:\n",
    "            rut_verified = form.check_rut(rut)\n",
    "            \n",
    "        except ValueError:\n",
    "                # Intentamos sacar el punto o agregar el guion para que el rut quede en el formato correcto\n",
    "            if \".\" in rut:\n",
    "                rut = rut.replace(\".\", \"\")\n",
    "\n",
    "            if \"-\" not in rut:\n",
    "                rut = \"{}-{}\".format(rut[:-1], rut[-1])\n",
    "            rut_verified = form.check_rut(rut)\n",
    "\n",
    "\n",
    "        if rut_verified:\n",
    "            try:\n",
    "                form.add_course(course, section)\n",
    "\n",
    "            except KeyError:  # Si es que hay espacio, lo eliminamos y volvemos a intentar\n",
    "                course = course.replace(\" \", \"\")\n",
    "                form.add_course(course, section)\n",
    "            except IndexError:  # Si el numero de la seccion no existe, se deja como 0\n",
    "                section = 0\n",
    "                form.add_course(course, section)\n",
    "\n",
    "            except ValueError:\n",
    "                # Si ingresan la seccion como palabra, se cambia por 0 si es la palabra es \"todas\"\n",
    "                # O si viene con la palabra \"section\", se elimina\n",
    "                if \"section\" in section:\n",
    "                    section = int(section.replace(\"section \", \"\"))\n",
    "                elif \"todas\" in section:\n",
    "                    section = 0\n",
    "                else:\n",
    "                    section = int(section)\n",
    "                form.add_course(course, section)\n",
    "\n",
    "            form.register_people_info(name, gender, comment)\n",
    "\n"
   ]
  },
  {
   "cell_type": "markdown",
   "metadata": {},
   "source": [
    "Con esto termina la parte de manejo de excepciones y falta solo la parte final.\n",
    "\n",
    "## Testing\n",
    "\n",
    "Para demostrar que la librería funciona se debía escribir un código de *testing* que probara las siguientes funcionalidades:\n",
    "\n",
    "- Al vericar un RUT con un dígito verificador erroneo y formato correcto, el metodo `check_rut` retorna `False`\n",
    "\n",
    "Para esto, primero se debe escribir la clase de para ejecutar el *testing* y definir los métodos `setUp` y `tearDown`."
   ]
  },
  {
   "cell_type": "code",
   "execution_count": 7,
   "metadata": {
    "collapsed": true
   },
   "outputs": [],
   "source": [
    "import unittest\n",
    "import os.path\n",
    "\n",
    "\n",
    "class Test(unittest.TestCase):\n",
    "    \n",
    "    def setUp(self):\n",
    "        self.form = FormRegister()\n",
    "\n",
    "    def tearDown(self):\n",
    "        if os.path.isfile('archivo.txt'):\n",
    "            os.remove('archivo.txt')\n",
    "            \n",
    "    def test_rut(self):  # Testea la función check_rut (que retorne False ante ruts inexistentes).\n",
    "        self.assertFalse(self.form.check_rut('19523019-5'))"
   ]
  },
  {
   "cell_type": "markdown",
   "metadata": {},
   "source": [
    "- Al ingresar un RUT con formato incorrecto, se quiere verificar que se levante una excepción.\n",
    "- Al ingresar un RUT con formato correcto, se debe retornanr `True`."
   ]
  },
  {
   "cell_type": "code",
   "execution_count": 8,
   "metadata": {
    "collapsed": true
   },
   "outputs": [],
   "source": [
    "    # Testea que check_rut levante una excepción al ingresar un rut en mal formato.\n",
    "    # Cuando el formato está bien, retorna True.\n",
    "    def test_rut_exception(self):  \n",
    "        self.assertTrue(self.form.check_rut('19523019-6'))  \n",
    "        self.assertRaises(ValueError, self.form.check_rut, '19.523.0196')\n",
    "    "
   ]
  },
  {
   "cell_type": "markdown",
   "metadata": {},
   "source": [
    "- Se debe verificar que si se registra de manera correcta una persona y se guardan los cambios realizados en un archivo, los datos estan bien ingresados en el archivo creado. Es decir, vericar que las primeras 4 lineas del archivo sean:\n",
    "> - Student: \"nombre_alumno\"\n",
    "  - Gender: \"genero\"\n",
    "  - Comment: \"comentario\"\n",
    "  - ########################################"
   ]
  },
  {
   "cell_type": "code",
   "execution_count": 9,
   "metadata": {
    "collapsed": true
   },
   "outputs": [],
   "source": [
    "    # Testea que los datos de usuarios registrados estén bien guardados al ejecutar save_data.\n",
    "    def test_file(self):  \n",
    "        # Primero guardamos la información en la base de datos local (lista):\n",
    "        self.form.register_people_info('Felipe', 'Helicóptero Apache', 'Spanish Inquisition')\n",
    "        # Luego guardamos la información en un archivo:\n",
    "        self.form.save_data('archivo.txt')\n",
    "        # la variable info contiene el string que debió haberse escrito en archivo.txt.\n",
    "        info = 'Student: Felipe\\nGender: Helicóptero Apache\\nComment: Spanish Inquisition\\n'\n",
    "        info += 40*'#' + '\\n'\n",
    "        with open('archivo.txt') as file:\n",
    "            check = ''\n",
    "            for line in file.readlines():\n",
    "                check += line\n",
    "        self.assertIn(info, check)"
   ]
  },
  {
   "cell_type": "markdown",
   "metadata": {},
   "source": [
    "- Se debe verificar que el método `register_people_info` guarde dentro de la base temporal la informacion de la persona. Para esto el método a crear debrá verificar que cada dato ingresado se encuentra en el último elemento de la base de datos temporal."
   ]
  },
  {
   "cell_type": "code",
   "execution_count": 10,
   "metadata": {
    "collapsed": true
   },
   "outputs": [],
   "source": [
    "# Testea que los datos ingresados en la base de datos local sean correctos.\n",
    "def test_register(self):  \n",
    "        self.form.register_people_info('Hernan', 'Otaku', 'Fernando-Sempaaaai, yamete!!')\n",
    "        check = ['Hernan', 'Otaku', 'Fernando-Sempaaaai, yamete!!']\n",
    "        self.assertEqual(check, self.form.register_list[-1])"
   ]
  },
  {
   "cell_type": "markdown",
   "metadata": {},
   "source": [
    "Finalmente la clase `Test` quedará de la siguiente manera:"
   ]
  },
  {
   "cell_type": "code",
   "execution_count": 11,
   "metadata": {
    "collapsed": true
   },
   "outputs": [],
   "source": [
    "import unittest\n",
    "import os.path\n",
    "\n",
    "\n",
    "class Test(unittest.TestCase):\n",
    "    \n",
    "    def setUp(self):\n",
    "        self.form = FormRegister()\n",
    "\n",
    "    def tearDown(self):\n",
    "        if os.path.isfile('archivo.txt'):\n",
    "            os.remove('archivo.txt')\n",
    "            \n",
    "    def test_rut(self):  # Testea la función check_rut (que retorne False ante ruts inexistentes).\n",
    "        self.assertFalse(self.form.check_rut('19523019-5'))\n",
    "    \n",
    "    def test_rut_exception(self):  # Testea que check_rut levante una excepción al ingresar un rut en mal formato.\n",
    "        self.assertTrue(self.form.check_rut('19523019-6'))  # Cuando el formato está bien, retorna True.\n",
    "        self.assertRaises(ValueError, self.form.check_rut, '19.523.0196')\n",
    "    \n",
    "    def test_file(self):  # Testea que los datos de usuarios registrados estén bien guardados al ejecutar save_data.\n",
    "        # Primero guardamos la información en la base de datos local (lista):\n",
    "        self.form.register_people_info('Felipe', 'Helicóptero Apache', 'Spanish Inquisition')\n",
    "        # Luego guardamos la información en un archivo:\n",
    "        self.form.save_data('archivo.txt')\n",
    "        # la variable info contiene el string que debió haberse escrito en archivo.txt.\n",
    "        info = 'Student: Felipe\\nGender: Helicóptero Apache\\nComment: Spanish Inquisition\\n'\n",
    "        info += 40*'#' + '\\n'\n",
    "        with open('archivo.txt') as file:\n",
    "            check = ''\n",
    "            for line in file.readlines():\n",
    "                check += line\n",
    "        self.assertIn(info, check)\n",
    "    def test_register(self):  # Testea que los datos ingresados en la base de datos local sean correctos.\n",
    "        self.form.register_people_info('Hernan', 'Otaku', 'Fernando-Sempaaaai, yamete!!')\n",
    "        check = ['Hernan', 'Otaku', 'Fernando-Sempaaaai, yamete!!']\n",
    "        self.assertEqual(check, self.form.register_list[-1])"
   ]
  },
  {
   "cell_type": "markdown",
   "metadata": {},
   "source": [
    "Ahora ejecutamos el *test*"
   ]
  },
  {
   "cell_type": "code",
   "execution_count": 12,
   "metadata": {},
   "outputs": [
    {
     "name": "stderr",
     "output_type": "stream",
     "text": [
      "...."
     ]
    },
    {
     "name": "stdout",
     "output_type": "stream",
     "text": [
      "Informacion guardada con exito\n"
     ]
    },
    {
     "name": "stderr",
     "output_type": "stream",
     "text": [
      "\n",
      "----------------------------------------------------------------------\n",
      "Ran 4 tests in 0.020s\n",
      "\n",
      "OK\n"
     ]
    },
    {
     "data": {
      "text/plain": [
       "<unittest.runner.TextTestResult run=4 errors=0 failures=0>"
      ]
     },
     "execution_count": 12,
     "metadata": {},
     "output_type": "execute_result"
    }
   ],
   "source": [
    "# test.main() en cualquier editor que no sea jupyter\n",
    "\n",
    "suite = unittest.TestLoader().loadTestsFromTestCase(Test)\n",
    "unittest.TextTestRunner().run(suite)"
   ]
  },
  {
   "cell_type": "markdown",
   "metadata": {
    "collapsed": true
   },
   "source": [
    "## Ejemplo Excepción personalizada"
   ]
  },
  {
   "cell_type": "code",
   "execution_count": 10,
   "metadata": {
    "collapsed": true
   },
   "outputs": [],
   "source": [
    "class RutConPuntos(Exception):\n",
    "    \n",
    "    def __init__(self, *args, **kwargs):\n",
    "        super().__init__(args, kwargs)\n",
    "        self.rut = args[0]\n",
    "        \n",
    "    def corregir_rut(self):\n",
    "        return self.rut.replace(\".\", \"\")\n",
    "    \n",
    "    def __str__(self):\n",
    "        return 'El RUT contiene puntos ({})'.format(self.rut)\n",
    "    \n",
    "class RutSinGuion(Exception):\n",
    "    \n",
    "    def __init__(self, *args, **kwargs):\n",
    "        super().__init__(args, kwargs)\n",
    "        self.rut = args[0]\n",
    "        \n",
    "    def corregir_rut(self):\n",
    "        return self.rut[:-1] + '-' + self.rut[-1]\n",
    "    \n",
    "    def __str__(self):\n",
    "        return 'El RUT no contiene guion ({})'.format(self.rut)\n",
    "    \n"
   ]
  },
  {
   "cell_type": "markdown",
   "metadata": {},
   "source": [
    "Ahora si modificamos el método `check_rut` de la clase `FormRegister`"
   ]
  },
  {
   "cell_type": "code",
   "execution_count": 11,
   "metadata": {},
   "outputs": [
    {
     "name": "stdout",
     "output_type": "stream",
     "text": [
      "El RUT contiene puntos (19.657.850-1)\n",
      "19657850-1\n",
      "El RUT contiene puntos (19.644.9116)\n",
      "196449116\n"
     ]
    }
   ],
   "source": [
    "class FormRegister:\n",
    "    def __init__(self):\n",
    "        \"\"\"\n",
    "        NO TOCAR el init\n",
    "        \"\"\"\n",
    "        self.courses = {\n",
    "            \"IIC1103\": [0, 0, 0],  # IIC1103 tiene 2 secciones\n",
    "            \"IIC2233\": [0, 0, 0, 0],  # IIC2233 tiene 3 secciones\n",
    "            \"IIC2115\": [0, 0],  # IIC2115 tiene 1 seccion\n",
    "            \"IIE3115\": [0, 0],  # IIC2115 tiene 1 seccion\n",
    "            \"IIC2332\": [0, 0],  # IIC2115 tiene 1 seccion\n",
    "            \"IIC2515\": [0, 0]  # IIC2115 tiene 1 seccion\n",
    "        }\n",
    "\n",
    "        self.register_list = []  # Almacena los alumnos que se inscribieron con exito\n",
    "        \n",
    "    def check_rut(self, rut):\n",
    "        # Verificamos si existen puntos en el rut o no hay un guion, en ese caso levantamos una excepcion.\n",
    "        if '.' in rut:\n",
    "            raise RutConPuntos(rut)\n",
    "        if '-' != rut[-2]:\n",
    "            raise RutSinGuio(rut)\n",
    "\n",
    "        # En caso contrario se deja que el codigo haga su trabajo de verificar si el rut es correcto.\n",
    "        digits, checker = rut.split(\"-\")\n",
    "        digits = list(digits)\n",
    "\n",
    "        for i in range(len(digits)):\n",
    "            digits[i] = int(digits[i])\n",
    "\n",
    "        list_number = [2, 3, 4, 5, 6, 7, 2, 3, 4, 5]\n",
    "\n",
    "        digits.reverse()\n",
    "        total = 0\n",
    "        for i in range(len(digits)):\n",
    "            total += digits[i] * list_number[i]\n",
    "\n",
    "        rest = 11 - total % 11\n",
    "        if rest == 11:\n",
    "            rest = \"0\"\n",
    "        elif rest == 10:\n",
    "            rest = \"k\"\n",
    "        else:\n",
    "            rest = str(rest)\n",
    "\n",
    "        return rest == checker\n",
    "    \n",
    "form = FormRegister()\n",
    "\n",
    "with open(\"test.txt\") as test_file:\n",
    "\n",
    "    for line in test_file:\n",
    "        name, gender, rut, course, section, comment = line.split(\";\")\n",
    "        comment = comment.strip(\"\\n\")\n",
    "\n",
    "        try:\n",
    "            rut_verified = form.check_rut(rut)\n",
    "            \n",
    "        except RutConPuntos as err:\n",
    "            print(err)\n",
    "            nuevo_rut = err.corregir_rut()\n",
    "            print(nuevo_rut)\n",
    "            \n",
    "        except RutSinGuion as err2:\n",
    "            print(err2)\n",
    "            nuevo_rut = err2.corregir_rut()\n",
    "            print(nuevo_rut)\n",
    "\n"
   ]
  },
  {
   "cell_type": "markdown",
   "metadata": {},
   "source": [
    "Sin embargo, esto no hace correctamente el trabajo, ya que cuando el rut no tiene guíon y sí puntos solamente ingresa al primer `Except`. Por lo que podríamos hacerlo de la siguiente manera:"
   ]
  },
  {
   "cell_type": "code",
   "execution_count": 12,
   "metadata": {},
   "outputs": [
    {
     "name": "stdout",
     "output_type": "stream",
     "text": [
      "El RUT contiene puntos (19.657.850-1)\n",
      "19657850-1\n",
      "El RUT contiene puntos (19.644.9116)\n",
      "196449116\n",
      "El RUT no contiene guion (196449116)\n",
      "19644911-6\n"
     ]
    }
   ],
   "source": [
    "class FormRegister:\n",
    "    def __init__(self):\n",
    "        \"\"\"\n",
    "        NO TOCAR el init\n",
    "        \"\"\"\n",
    "        self.courses = {\n",
    "            \"IIC1103\": [0, 0, 0],  # IIC1103 tiene 2 secciones\n",
    "            \"IIC2233\": [0, 0, 0, 0],  # IIC2233 tiene 3 secciones\n",
    "            \"IIC2115\": [0, 0],  # IIC2115 tiene 1 seccion\n",
    "            \"IIE3115\": [0, 0],  # IIC2115 tiene 1 seccion\n",
    "            \"IIC2332\": [0, 0],  # IIC2115 tiene 1 seccion\n",
    "            \"IIC2515\": [0, 0]  # IIC2115 tiene 1 seccion\n",
    "        }\n",
    "\n",
    "        self.register_list = []  # Almacena los alumnos que se inscribieron con exito\n",
    "        \n",
    "    def check_rut(self, rut):\n",
    "        # Verificamos si existen puntos en el rut o no hay un guion, en ese caso levantamos una excepcion.\n",
    "        if '.' in rut:\n",
    "            raise RutConPuntos(rut)\n",
    "        if '-' != rut[-2]:\n",
    "            raise RutSinGuion(rut)\n",
    "\n",
    "        # En caso contrario se deja que el codigo haga su trabajo de verificar si el rut es correcto.\n",
    "        digits, checker = rut.split(\"-\")\n",
    "        digits = list(digits)\n",
    "\n",
    "        for i in range(len(digits)):\n",
    "            digits[i] = int(digits[i])\n",
    "\n",
    "        list_number = [2, 3, 4, 5, 6, 7, 2, 3, 4, 5]\n",
    "\n",
    "        digits.reverse()\n",
    "        total = 0\n",
    "        for i in range(len(digits)):\n",
    "            total += digits[i] * list_number[i]\n",
    "\n",
    "        rest = 11 - total % 11\n",
    "        if rest == 11:\n",
    "            rest = \"0\"\n",
    "        elif rest == 10:\n",
    "            rest = \"k\"\n",
    "        else:\n",
    "            rest = str(rest)\n",
    "\n",
    "        return rest == checker\n",
    "\n",
    "    \n",
    "def verificador(rut):\n",
    "    try:\n",
    "        rut_verified = form.check_rut(rut)\n",
    "\n",
    "    except RutConPuntos as err:\n",
    "        # Esto imprime el __str__ del método RutConPuntos\n",
    "        print(err)\n",
    "        # Se corrigue el rut\n",
    "        nuevo_rut = err.corregir_rut()\n",
    "        # Imprimimos el rut modificado\n",
    "        print(nuevo_rut)\n",
    "        return verificador(nuevo_rut)\n",
    "\n",
    "    except RutSinGuion as err2:\n",
    "        # Esto imprime el __str__ del método RutSinGuion\n",
    "        print(err2)\n",
    "        # Se corrigue el rut\n",
    "        nuevo_rut = err2.corregir_rut()\n",
    "        # Imprime el nuevo rut\n",
    "        print(nuevo_rut)\n",
    "        return verificador(nuevo_rut)\n",
    "\n",
    "\n",
    "form = FormRegister()\n",
    "\n",
    "with open(\"test.txt\") as test_file:\n",
    "\n",
    "    for line in test_file:\n",
    "        name, gender, rut, course, section, comment = line.split(\";\")\n",
    "        comment = comment.strip(\"\\n\")\n",
    "        verificador(rut)\n",
    "    "
   ]
  },
  {
   "cell_type": "code",
   "execution_count": null,
   "metadata": {
    "collapsed": true
   },
   "outputs": [],
   "source": []
  },
  {
   "cell_type": "code",
   "execution_count": null,
   "metadata": {
    "collapsed": true
   },
   "outputs": [],
   "source": []
  }
 ],
 "metadata": {
  "kernelspec": {
   "display_name": "Python 3",
   "language": "python",
   "name": "python3"
  },
  "language_info": {
   "codemirror_mode": {
    "name": "ipython",
    "version": 3
   },
   "file_extension": ".py",
   "mimetype": "text/x-python",
   "name": "python",
   "nbconvert_exporter": "python",
   "pygments_lexer": "ipython3",
   "version": "3.6.2"
  }
 },
 "nbformat": 4,
 "nbformat_minor": 2
}
