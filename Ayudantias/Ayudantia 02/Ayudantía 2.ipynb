{
 "cells": [
  {
   "cell_type": "markdown",
   "metadata": {},
   "source": [
    "# Ayudantia 2\n",
    "\n",
    "Nicolás Maturana y Enzo Tamburini\n",
    "\n",
    "## Solución AC03 2017-2\n",
    "\n",
    "### Estructuras de Datos Built-in\n",
    "\n",
    "El enunciado completo de esta actividad se encuentra [aquí](https://github.com/IIC2233/Syllabus-2017-2/blob/master/Actividades/AC03/AC03.pdf)."
   ]
  },
  {
   "cell_type": "markdown",
   "metadata": {},
   "source": [
    "En esta actividad teniamos **3** archivos: \n",
    " \n",
    ">- **alumnos.txt** de la forma (numero_alumno,unidad_academica)\n",
    ">- **cursos.txt** de la forma (sigla,cupos,cupos_extra,horario)\n",
    ">- **unidades.txt** de la forma (unidad_academica,control), donde control es 1 si controla tope y 0 si es que no\n",
    "\n",
    "Debiamos simular el sistema de toma de ramos para los alumnos, en 2 tomas de ramos: 3 ramos primero y luego 2 (todos los ramos distintos distintos).\n",
    "\n",
    "Para esto, primero nos pide crear la clase\n",
    "> `PrograBanner`: Sistema que mantiene la oferta de cursos y a los alumnos que esperan para tomar\n",
    "ramos, quienes son atendidos según **orden de llegada**. Asigna y ajusta las vacantes de los cursos y\n",
    "ademas controla el tope de horario una vez terminada la toma de ramos.\n",
    "\n",
    "Empezamos haciendo la lectura de archivos, definiendo la estructura de datos para cada una de las lecturas de archivos, o creando una clase en su defecto:\n",
    "\n",
    "Comenzando con los **cursos** y los **cupos**:\n",
    "\n",
    "> - **Curso**: Cada curso tiene sigla, nombre, un horario predefinido y una cantidad limitada de cupos que además están numerados de acuerdo al orden en que se van asignando. La numeración permite a la universidad rastrear las vacantes. Como ejemplo, si el alumno 15436789 tiene el cupo con número de cupo 3 de IIC2233, significa que fue el tercer estudiante que tomó un cupo de Avanción Programada.\n",
    "> - **Cupos**: Cada cupo posee un número de cupo y el horario de la sección a la que pertenece."
   ]
  },
  {
   "cell_type": "code",
   "execution_count": 46,
   "metadata": {
    "collapsed": true
   },
   "outputs": [],
   "source": [
    "from collections import namedtuple, deque, defaultdict\n",
    "\n",
    "Place = namedtuple(\"Place\", [\"place_number\", \"schedule\"])\n",
    "\n",
    "class Course:\n",
    "    def __init__(self, initials, places, additional, schedule):\n",
    "        pass\n",
    "\n",
    "    def add_places(self):\n",
    "        pass"
   ]
  },
  {
   "cell_type": "markdown",
   "metadata": {},
   "source": [
    "Luego, los **estudiantes**:\n",
    "\n",
    "> - **Alumno**: Posee número de alumno, unidad académica y un registro de los cupos asignados. Este registro debe tener los cupos clasificados de acuerdo a la sigla del curso para facilitar posibles consultas. El alumno no puede tomar dos veces el mismo ramo y tiene un límite de 5 cursos."
   ]
  },
  {
   "cell_type": "code",
   "execution_count": 5,
   "metadata": {
    "collapsed": true
   },
   "outputs": [],
   "source": [
    "class Student:\n",
    "    def __init__(self, student_id, unit):\n",
    "        pass"
   ]
  },
  {
   "cell_type": "markdown",
   "metadata": {},
   "source": [
    "Podemos ahora definir `PrograBanner`, para empezar la lectura de archivos:"
   ]
  },
  {
   "cell_type": "code",
   "execution_count": 41,
   "metadata": {
    "collapsed": true
   },
   "outputs": [],
   "source": [
    "from random import sample, shuffle\n",
    "\n",
    "class PrograBanner:\n",
    "    \n",
    "    def create_students(self, students_path):\n",
    "        pass\n",
    "\n",
    "    def create_courses(self, courses_path):\n",
    "        pass\n",
    "\n",
    "    def create_units(self, units_path):\n",
    "        pass\n"
   ]
  },
  {
   "cell_type": "markdown",
   "metadata": {},
   "source": [
    "Ahora, podemos \"poblar\" a `PrograBanner`, llamando los métodos recién creados para esta labor."
   ]
  },
  {
   "cell_type": "code",
   "execution_count": 33,
   "metadata": {
    "collapsed": true
   },
   "outputs": [],
   "source": [
    "    def __init__(self, students_path, courses_path, units_path):\n",
    "        pass"
   ]
  },
  {
   "cell_type": "markdown",
   "metadata": {},
   "source": [
    "Empezamos ahora con la asignación de los cursos, con un máximo definido por el usuario. Este método se llamaba para cada toma de ramos de forma separada.\n",
    "\n",
    "> ### Asignación de cupos \n",
    "El sistema escoge aleatoriamente los cursos para el siguiente alumno en espera y revisa si estos tienen un cupo disponible. En tal caso se le asigna la vacante del curso al alumno y esta deja de estar disponible para futuros alumnos. Si no existen cupos disponibles en un curso, simplemente el alumno **quedará sin ese curso**. En la primera etapa de la toma de ramos este proceso se ejecuta con 3 ramos por alumno y en la segunda, con suficientes ramos para que el alumno quede con hasta 5 cursos asignados.\n"
   ]
  },
  {
   "cell_type": "code",
   "execution_count": 34,
   "metadata": {
    "collapsed": true
   },
   "outputs": [],
   "source": [
    "    def course_assignation(self, course_qty):\n",
    "        pass"
   ]
  },
  {
   "cell_type": "markdown",
   "metadata": {},
   "source": [
    "Se debe agregar las vacantes adicionales para cada uno de los cursos (ajuste):\n",
    "\n",
    "> ### Ajuste de vacantes\n",
    "Entre las dos etapas de toma de ramos, el sistema crea nuevas vacantes a ciertos cursos. Por ejemplo, si a un curso con 10 vacantes originales se deben agregar 2 nuevos cupos, estos tendrán la numeración 11 y 12 respectivamente, e independiente de la cantidad de cupos restantes en el curso al término de la primera etapa de toma de ramos."
   ]
  },
  {
   "cell_type": "code",
   "execution_count": 35,
   "metadata": {
    "collapsed": true
   },
   "outputs": [],
   "source": [
    "    def additional_places(self):\n",
    "        pass"
   ]
  },
  {
   "cell_type": "markdown",
   "metadata": {},
   "source": [
    "Ahora nos tenemos que fijar en el tope de horario, recordar que devuelve los cupos a los ramos con tope:\n",
    "\n",
    "> ### Tope de horarios\n",
    "Una vez finalizadas las dos etapas de toma de ramos, se controlará el tope de horario para los alumnos de las unidades académicas que lo controlan. Si un alumno de tales unidades tiene dos o más ramos con el mismo horario, el sistema le eliminará el cupo de todos ellos, es decir, el alumno ya no tendrá dichos cursos en su registro de ramos y \\textbf{las vacantes serán restituidas en el registro de cupos de los ramos}."
   ]
  },
  {
   "cell_type": "code",
   "execution_count": 36,
   "metadata": {
    "collapsed": true
   },
   "outputs": [],
   "source": [
    "    def conflict_control(self):\n",
    "        pass"
   ]
  },
  {
   "cell_type": "markdown",
   "metadata": {},
   "source": [
    "Una vez hecho esto, podemos centrarnos en las consultas que fueron pedidas en el enunciado:\n",
    "\n",
    "> - `alumno_en_curso(num_alumno, sigla)`: Imprime en consola el número del cupo del alumno `num_alumno` en el curso `sigla` o, en su defecto, un mensaje de que el alumno no está en el curso.\n",
    "- `alumnos_en_curso(sigla)`: Imprime en consola un listado de los alumnos inscritos en un curso, indicando su número de alumno y el número del cupo asignado.\n",
    "- `cursos_comunes(num_alumno_1, num_alumno_2)`: Imprime en consola la sigla y el horario de todos los ramos comunes de los estudiantes con números de alumno dados. Pueden ser cupos de horarios distintos para el mismo ramo."
   ]
  },
  {
   "cell_type": "code",
   "execution_count": 37,
   "metadata": {
    "collapsed": true
   },
   "outputs": [],
   "source": [
    "    def alumno_en_curso(self, s_number, initials):\n",
    "        pass\n",
    "\n",
    "    def alumnos_en_curso(self, initials):\n",
    "        pass\n",
    "\n",
    "    def cursos_comunes(self, s_number_1, s_number_2):\n",
    "        pass"
   ]
  },
  {
   "cell_type": "markdown",
   "metadata": {},
   "source": [
    "Finalmente, el código debe verse algo parecido a esto:"
   ]
  },
  {
   "cell_type": "code",
   "execution_count": 42,
   "metadata": {
    "collapsed": true
   },
   "outputs": [],
   "source": [
    "class PrograBanner:\n",
    "\n",
    "    def __init__(self, students_path, courses_path, units_path):\n",
    "        self.students = self.create_students(students_path)  # lista de alumnos\n",
    "        self.courses = self.create_courses(courses_path)     # dict de cursos\n",
    "        self.units = self.create_units(units_path)           # dict de unidades\n",
    "\n",
    "    def course_assignation(self, course_qty):\n",
    "        for student in self.students:\n",
    "\n",
    "            real_qty = course_qty - len(student.courses)\n",
    "            selection = sample(self.courses.keys(), real_qty)\n",
    "            \n",
    "            for course_key in selection:\n",
    "                course = self.courses[course_key]\n",
    "                cond1 = len(course.places) > 0\n",
    "                cond2 = course_key not in student.courses.keys()\n",
    "                if cond1 and cond2:\n",
    "                    student.courses[course.initials] = course.places.popleft()\n",
    "        \n",
    "        if course_qty == 3:\n",
    "            shuffle(self.students)\n",
    "\n",
    "    def conflict_control(self):\n",
    "        \n",
    "        for student in self.students:\n",
    "\n",
    "            if self.units[student.unit] == \"1\":\n",
    "                courses_by_schedule = defaultdict(list)\n",
    "              \n",
    "                for course_key, place in student.courses.items():\n",
    "                    courses_by_schedule[place.schedule].append(course_key)\n",
    "                for schedule, course_list in courses_by_schedule.items():\n",
    "                \n",
    "                    if len(course_list) > 1:\n",
    "                        for course_key in course_list:\n",
    "                            place = student.courses.pop(course_key)\n",
    "                            self.courses[course_key].places.append(place)\n",
    "\n",
    "    def additional_places(self):\n",
    "        for course in self.courses.values():\n",
    "            course.add_places()\n",
    "            \n",
    "    def alumno_en_curso(self, s_number, initials):\n",
    "        for student in self.students:\n",
    "            if student.student_id == s_number:\n",
    "                place = student.courses[initials]\n",
    "                if place:\n",
    "                    print(\"{0} tiene el cupo {1} de {2}\".format(\n",
    "                        s_number, place.place_number, initials\n",
    "                    ))\n",
    "                else:\n",
    "                    print(\"{0} no tiene cupo en {1}\".format(\n",
    "                        s_number, initials\n",
    "                    ))\n",
    "\n",
    "    def alumnos_en_curso(self, initials):\n",
    "        students_and_place = list()\n",
    "        for student in self.students:\n",
    "            place = student.courses[initials]\n",
    "            if place:\n",
    "                pair = (student.student_id, place.place_number)\n",
    "                students_and_place.append(pair)\n",
    "        print(\"Alumnos inscritos en \", initials)\n",
    "        for pair in students_and_place:\n",
    "            print(\"{0} - cupo {1}\".format(*pair))\n",
    "\n",
    "    def cursos_comunes(self, s_number_1, s_number_2):\n",
    "        s_list = list()\n",
    "        for student in self.students:\n",
    "            if len(s_list) == 2:\n",
    "                break\n",
    "            if student.student_id == s_number_1 or student.student_id == s_number_2:\n",
    "                s_list.append(student)\n",
    "        set1 = set(s_list[0].courses.keys())\n",
    "        set2 = set(s_list[1].courses.keys())\n",
    "        courses_set = set1.intersection(set2)\n",
    "        print(\"Cursos comunes de {0} y {1}:\".format(s_number_1, s_number_2))\n",
    "        if len(courses_set) == 0:\n",
    "            print(\"\\tNo tienen cursos comunes\")\n",
    "        else:\n",
    "            for e in courses_set:\n",
    "                print(e)\n",
    "\n",
    "    def create_students(self, students_path):\n",
    "        with open(students_path, \"r\") as infile:\n",
    "            # cola a la que solo se le hace popleft() de Students\n",
    "            student_queue = list()\n",
    "            for line in infile:\n",
    "                fields = line.strip(\"\\n\").split(\",\")\n",
    "                student_queue.append(Student(*fields))\n",
    "            return student_queue\n",
    "\n",
    "    def create_courses(self, courses_path):\n",
    "        with open(courses_path, \"r\") as infile:\n",
    "            # dict con los cursos con sigla como key y objeto Course como value\n",
    "            courses_dict = dict()\n",
    "            for line in infile:\n",
    "                f = line.strip(\"\\n\").split(\",\")\n",
    "                courses_dict[f[0]] = Course(*f)\n",
    "            return courses_dict\n",
    "\n",
    "    def create_units(self, units_path):\n",
    "        with open(units_path, \"r\") as infile:\n",
    "            # dict con las unidades y su control de tope\n",
    "            units_dict = dict()\n",
    "            for line in infile:\n",
    "                fields = line.strip(\"\\n\").split(\",\")\n",
    "                units_dict[fields[0]] = fields[1]\n",
    "            return units_dict"
   ]
  },
  {
   "cell_type": "markdown",
   "metadata": {},
   "source": [
    "Finalmente, poblamos el sistema para ver que todo este en orden:"
   ]
  },
  {
   "cell_type": "code",
   "execution_count": 44,
   "metadata": {},
   "outputs": [
    {
     "name": "stdout",
     "output_type": "stream",
     "text": [
      "\n",
      "13202388 tiene el cupo 1 de EDP8575\n",
      "\n",
      "Alumnos inscritos en  EDP8575\n",
      "15622268 - cupo 2\n",
      "13201433 - cupo 3\n",
      "14631681 - cupo 5\n",
      "15621945 - cupo 6\n",
      "13202388 - cupo 1\n",
      "\n",
      "Cursos comunes de 13201645 y 13202388:\n",
      "EDP8575\n",
      "IIC9748\n"
     ]
    }
   ],
   "source": [
    "system = PrograBanner(\"alumnos.txt\", \"cursos.txt\", \"unidades.txt\")\n",
    "# primera toma\n",
    "system.course_assignation(3)\n",
    "# ajuste\n",
    "system.additional_places()\n",
    "# segunda toma\n",
    "system.course_assignation(5)\n",
    "# tope de horarios\n",
    "system.conflict_control()\n",
    "\n",
    "# consulta 1\n",
    "print(\"\")\n",
    "system.alumno_en_curso(\"13202388\", \"EDP8575\")\n",
    "# consulta 2\n",
    "print(\"\")\n",
    "system.alumnos_en_curso(\"EDP8575\")\n",
    "# consulta 3\n",
    "print(\"\")\n",
    "system.cursos_comunes(\"13201645\", \"13202388\")"
   ]
  },
  {
   "cell_type": "markdown",
   "metadata": {},
   "source": [
    "# Algunos ejemplos\n",
    "\n",
    "## Diccionarios\n",
    "\n",
    "Un uso común de diccionarios se da cuando en el problema a modelar se quiere almacenar en la memoria una gran cantidad de elementos, cada uno con un identificador unico.\n",
    "\n",
    "Por ejemplo, si el problema a tratar habla de equipos de futbol y estos fueron modelados como clase, una forma óptima de almacenar sus instancias es a través de un diccionario.\n",
    "\n",
    "**¿Cuál es el problema con las listas? ¿Cuál es el problema con cualquier otra estructura?**"
   ]
  },
  {
   "cell_type": "code",
   "execution_count": null,
   "metadata": {
    "collapsed": true
   },
   "outputs": [],
   "source": [
    "class Equipo:\n",
    "    \n",
    "    def __init__(self, nombre):\n",
    "        self.nombre = nombre\n",
    "        \n",
    "    def __repr__(self):\n",
    "        return \"Instancia de {}\".format(self.nombre)\n",
    "\n",
    "class Liga:\n",
    "    \n",
    "    def __init__(self):\n",
    "        self.equipos = {\"UC\": Equipo(\"Universidad Católica\"),\n",
    "                        \"CC\": Equipo(\"Colo Colo\"),\n",
    "                        \"UCH\": Equipo(\"Universidad de Chile\")}\n",
    "\n",
    "# Poblacion\n",
    "\n",
    "liga_chilena = Liga()\n",
    "\n",
    "print(liga_chilena.equipos[\"UC\"])\n",
    "print(liga_chilena.equipos[\"CC\"])\n",
    "print(liga_chilena.equipos[\"UCH\"])"
   ]
  },
  {
   "cell_type": "markdown",
   "metadata": {},
   "source": [
    "### Algunos comandos basicos"
   ]
  },
  {
   "cell_type": "code",
   "execution_count": null,
   "metadata": {
    "collapsed": true
   },
   "outputs": [],
   "source": [
    "# Dos formas de agregar elementos a un diccionario\n",
    "liga_chilena.equipos.update({\"UE\": Equipo(\"Union Española\")})\n",
    "liga_chilena.equipos[\"SW\"] = Equipo(\"Santiago Wanderers\")\n",
    "\n",
    "print(liga_chilena.equipos)\n",
    "\n",
    "# Para eliminar elementos\n",
    "del liga_chilena.equipos[\"UCH\"]\n",
    "\n",
    "print(liga_chilena.equipos)\n",
    "\n",
    "# Recorrer keys y values\n",
    "print(\"_\"*50)\n",
    "print(\"Values\")\n",
    "for equipo in liga_chilena.equipos.values():\n",
    "    print(equipo)\n",
    "print(\"_\"*50)\n",
    "\n",
    "print(\"Keys\")\n",
    "for equipo in liga_chilena.equipos.keys():\n",
    "    print(equipo)\n",
    "print(\"_\"*50)\n",
    "\n",
    "print(\"Tuplas\")\n",
    "for tupla in liga_chilena.equipos.items():\n",
    "    print(tupla)\n",
    "print(\"_\"*50)"
   ]
  },
  {
   "cell_type": "markdown",
   "metadata": {},
   "source": [
    "## DefaultDicts"
   ]
  },
  {
   "cell_type": "code",
   "execution_count": null,
   "metadata": {
    "collapsed": true
   },
   "outputs": [],
   "source": [
    "# Se deben importar de la libreria collections\n",
    "from collections import defaultdict\n",
    "\n",
    "# Que pasa si intentamos esto\n",
    "\n",
    "dicc = {\"UC\" : \"Universidad Catolica\", \"CC\": \"Colo Colo\"}\n",
    "dicc[\"UCH\"]\n",
    "\n",
    "# Utilidad del default dict\n",
    "default = defaultdict(int)\n",
    "default.update({\"UC\" : \"Universidad Catolica\", \"CC\": \"Colo Colo\"})\n",
    "print(default[\"UCH\"])\n",
    "\n",
    "# Funciona igual que un diccionario!\n",
    "print(default[\"UC\"])"
   ]
  },
  {
   "cell_type": "markdown",
   "metadata": {},
   "source": [
    "## Tuplas\n",
    "\n",
    "Las tuplas son estructuras **inmutables**."
   ]
  },
  {
   "cell_type": "code",
   "execution_count": null,
   "metadata": {
    "collapsed": true
   },
   "outputs": [],
   "source": [
    "# Dos formas de crearlas\n",
    "\n",
    "tupla1 = tuple([\"Hola\", int, 4])\n",
    "print(tupla1)\n",
    "tupla2 = (\"Hola\", int, 4)\n",
    "print(tupla2)\n",
    "\n",
    "print(tupla1 == tupla2)"
   ]
  },
  {
   "cell_type": "markdown",
   "metadata": {},
   "source": [
    "## Named tuple\n",
    "\n",
    "Las named tuples son como una clase sin metodos, es decir, solo tiene atributos y estos son fijos."
   ]
  },
  {
   "cell_type": "code",
   "execution_count": null,
   "metadata": {
    "collapsed": true
   },
   "outputs": [],
   "source": [
    "from collections import namedtuple\n",
    "\n",
    "#Sintaxis = namedtuple(\"nombre de la 'clase'\", [atributos])\n",
    "juguete = namedtuple(\"tipo_juguete\", [\"nombre\", \"anho_de_fabricacion\"])\n",
    "\n",
    "j1 = juguete(\"Max Steel\", 2000)\n",
    "j2 = juguete(\"Barbie\", 1959)\n",
    "\n",
    "print(j1.nombre)\n",
    "print(j1.anho_de_fabricacion)\n",
    "\n",
    "print(j2.nombre)\n",
    "print(j2.anho_de_fabricacion)\n",
    "\n",
    "print(type(j1))"
   ]
  },
  {
   "cell_type": "markdown",
   "metadata": {},
   "source": [
    "## Sets\n",
    "\n",
    "Sirven para tener un conjunto de elementos ordenados y sin repetir. Se pueden intersectar y unir"
   ]
  },
  {
   "cell_type": "code",
   "execution_count": null,
   "metadata": {
    "collapsed": true
   },
   "outputs": [],
   "source": [
    "set1 = {1,2,3,4}\n",
    "set2 = {3,4,5,6}\n",
    "set3 = set([2,4,7,0,5])\n",
    "\n",
    "\n",
    "union = set3.union(set2)\n",
    "interseccion = set1.intersection(set2)\n",
    "print(union)\n",
    "print(interseccion)"
   ]
  }
 ],
 "metadata": {
  "kernelspec": {
   "display_name": "Python 3",
   "language": "python",
   "name": "python3"
  },
  "language_info": {
   "codemirror_mode": {
    "name": "ipython",
    "version": 3
   },
   "file_extension": ".py",
   "mimetype": "text/x-python",
   "name": "python",
   "nbconvert_exporter": "python",
   "pygments_lexer": "ipython3",
   "version": "3.6.2rc2"
  }
 },
 "nbformat": 4,
 "nbformat_minor": 2
}
