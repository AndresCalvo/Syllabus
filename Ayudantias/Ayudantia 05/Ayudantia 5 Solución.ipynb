{
 "cells": [
  {
   "cell_type": "markdown",
   "metadata": {},
   "source": [
    "# Ayudantía 5: Programación funcional 101\n",
    "\n",
    "**José Pablo Domínguez y Tien Villalobos**\n",
    "___\n",
    "\n",
    "## ¿Por qué?\n",
    "\n",
    "- Existen lenguajes de programación que utilizan este paradigma.\n",
    "- Procesamiento de información optimizada.\n",
    "- Programas más robustos, mantenibles y fáciles de testear.\n",
    "\n",
    "## Actividad 6 2017-2\n",
    "\n",
    "Pueden encontrar el enunciado completo de esta actividad [aquí](https://github.com/IIC2233/Syllabus-2017-2/blob/master/Actividades/AC06/ac06-iic2233-2017.pdf).\n",
    "___"
   ]
  },
  {
   "cell_type": "markdown",
   "metadata": {},
   "source": [
    "La actividad tiene los siguientes archivos:"
   ]
  },
  {
   "cell_type": "markdown",
   "metadata": {},
   "source": [
    "- **Ciudades.txt**: Contiene la información de los ciudades en la dimensión. Cada fila es de la forma: sigla país, nombre.\n",
    "- **Paises.txt**: Contiene la información de las países en la dimensión. Cada fila es de la forma: sigla, nombre.\n",
    "- **Informacion_personas.txt**: Contiene la información de las personas en la dimensión. Cada fila es de la forma: nombre, apellido, edad, sexo, ciudad de residencia, área de trabajo, sueldo."
   ]
  },
  {
   "cell_type": "markdown",
   "metadata": {},
   "source": [
    "Para ilustrar mejor el contenido de los archivos se muestran en tablas\n",
    "![](img/tablas_archivos.png)"
   ]
  },
  {
   "cell_type": "code",
   "execution_count": 119,
   "metadata": {
    "collapsed": true
   },
   "outputs": [],
   "source": [
    "# Creamos namedtuples para guardar la info de las ciudades, paises y personas\n",
    "from collections import namedtuple\n",
    "\n",
    "Ciudad = namedtuple('Ciudad', ['sigla_pais', 'nombre'])\n",
    "Pais = namedtuple('Pais', ['sigla', 'nombre'])\n",
    "Persona = namedtuple('Persona', ['nombre', 'apellido', 'edad', 'sexo', 'ciudad_residencia', 'area_de_trabajo','sueldo'])"
   ]
  },
  {
   "cell_type": "code",
   "execution_count": 130,
   "metadata": {
    "collapsed": false
   },
   "outputs": [],
   "source": [
    "# Abrimos los archivos correspondientes y guardamos a las personas, ciudades y paises en listas\n",
    "def leer_ciudades(path_ciudades):\n",
    "    with open(path_ciudades, 'r') as file1:\n",
    "        info_ciudades = map(lambda x: x.strip().split(','), file1)\n",
    "        return [Ciudad(*x) for x in info_ciudades]\n",
    "    \n",
    "def leer_paises(path_paises):\n",
    "    with open(path_paises, 'r') as file3:\n",
    "        info_paises = map(lambda x: x.strip().split(','), file3)\n",
    "        return [Pais(*x) for x in info_paises]\n",
    "    \n",
    "def leer_personas(path_personas):\n",
    "    with open(path_personas, 'r') as file2:\n",
    "        info_personas = map(lambda x: x.strip().split(','), file2)\n",
    "        return [Persona(*x) for x in info_personas]\n",
    "\n",
    "ciudades = leer_ciudades('Ciudades.txt')\n",
    "paises = leer_paises('Paises.txt')\n",
    "personas = leer_personas('Informacion_personas.txt')\n"
   ]
  },
  {
   "cell_type": "markdown",
   "metadata": {},
   "source": [
    "A continuación, la actividad pedía completar un listado de funciones para realizar las consultas"
   ]
  },
  {
   "cell_type": "markdown",
   "metadata": {},
   "source": [
    ">- **ciudad_por_pais(nombre_pais, paises, ciudades)**  \n",
    "Recibe el nombre de un país, una lista de paises y una lista de ciudades.  \n",
    "Debe retornar un generador con las ciudades pertenecientes al pais X"
   ]
  },
  {
   "cell_type": "code",
   "execution_count": 124,
   "metadata": {
    "collapsed": true
   },
   "outputs": [],
   "source": [
    "# 1 Ciudades por pais\n",
    "def ciudad_por_pais(nombre_pais, paises, ciudades):\n",
    "    # filtramos todas las ciudades por pais que queremos\n",
    "    pais = next(filter(lambda pais: pais.nombre == nombre_pais, paises)) \n",
    "    return filter(lambda ciudad: ciudad.sigla_pais == pais.sigla, ciudades)"
   ]
  },
  {
   "cell_type": "code",
   "execution_count": 126,
   "metadata": {
    "collapsed": false
   },
   "outputs": [],
   "source": [
    "# probamos la función\n",
    "ciudades_chile = ciudad_por_pais('Chile', paises, ciudades)\n",
    "for ciudad in ciudades_chile:\n",
    "    print(ciudad.nombre)"
   ]
  },
  {
   "cell_type": "markdown",
   "metadata": {},
   "source": [
    "> - **personas_por_pais(nombre_pais, paises, ciudades, personas)**  \n",
    "Recibe el nombre de un país, una lista de paises, una lista de ciudades y una lista de personas.  \n",
    "Debe retornar un generador con las personas pertenecientes al país X."
   ]
  },
  {
   "cell_type": "code",
   "execution_count": 6,
   "metadata": {
    "collapsed": true
   },
   "outputs": [],
   "source": [
    "# 2 Personas por pais\n",
    "def personas_por_pais(nombre_pais, paises, ciudades, personas):\n",
    "    # filtramos por las personas por pais que queremos\n",
    "    ciudades_filtradas = ciudad_por_pais(nombre_pais, paises, ciudades)\n",
    "    nombre_ciudades = {ciudad.nombre for ciudad in ciudades_filtradas}\n",
    "    return filter(lambda persona: persona.ciudad_residencia in nombre_ciudades, personas)"
   ]
  },
  {
   "cell_type": "code",
   "execution_count": 9,
   "metadata": {
    "collapsed": false
   },
   "outputs": [],
   "source": [
    "# probamos la función\n",
    "personas_chile = personas_por_pais('Chile', paises, ciudades, personas)\n",
    "for persona in personas_chile:\n",
    "    print(persona.nombre)"
   ]
  },
  {
   "cell_type": "markdown",
   "metadata": {},
   "source": [
    "> - **personas_por_ciudad(nombre_ciudad, personas)**   \n",
    "Recibe el nombre de una ciudad y una lista de personas.  \n",
    "Debe retornar un generador con las personas pertenecientes a la ciudad X."
   ]
  },
  {
   "cell_type": "code",
   "execution_count": 127,
   "metadata": {
    "collapsed": true
   },
   "outputs": [],
   "source": [
    "# 3 Personas por ciudad\n",
    "def personas_por_ciudad(nombre_ciudad, personas):\n",
    "    # filtramos a las personas por ciudad que queremos\n",
    "    return filter(lambda persona: persona.ciudad_residencia == nombre_ciudad,\n",
    "                  personas)"
   ]
  },
  {
   "cell_type": "code",
   "execution_count": 129,
   "metadata": {
    "collapsed": false
   },
   "outputs": [],
   "source": [
    "# probamos la función\n",
    "personas_osorno = personas_por_ciudad('Osorno', personas)\n",
    "for persona in personas_osorno:\n",
    "    print(\"{0}, {1}\".format(persona.nombre,persona.ciudad_residencia))  "
   ]
  },
  {
   "cell_type": "markdown",
   "metadata": {},
   "source": [
    "> - **personas_con_sueldo_mayor_a(personas, sueldo)**  \n",
    "Recibe una lista de personas y un valor de sueldo.  \n",
    "Debe retornar un generador con las personas con un sueldo mayor a X."
   ]
  },
  {
   "cell_type": "code",
   "execution_count": 18,
   "metadata": {
    "collapsed": true
   },
   "outputs": [],
   "source": [
    "# 4 Personas con sueldo mayor a x\n",
    "def personas_con_sueldo_mayor_a(personas, sueldo):\n",
    "    #filtramos a las personas por un sueldo x\n",
    "    return filter(lambda personas: int(personas.sueldo) > sueldo, personas)"
   ]
  },
  {
   "cell_type": "code",
   "execution_count": 67,
   "metadata": {
    "collapsed": false
   },
   "outputs": [],
   "source": [
    "# probamos la función\n",
    "p_sueldo_mayor_4500 = personas_con_sueldo_mayor_a(personas, 4500)\n",
    "for persona in p_sueldo_mayor_4500:\n",
    "    print(\"{0}, {1}\".format(persona.nombre, persona.sueldo))"
   ]
  },
  {
   "cell_type": "markdown",
   "metadata": {},
   "source": [
    "> - **personas_por_ciudad_sexo(nombre_ciudad, sexo, personas)**  \n",
    "Recibe el nombre de una ciudad, un sexo y una lista de personas.  \n",
    "Debe retornar un generador con las personas de una ciudad X y de un sexo Y."
   ]
  },
  {
   "cell_type": "code",
   "execution_count": 27,
   "metadata": {
    "collapsed": true
   },
   "outputs": [],
   "source": [
    "# 5 Personas ciudad y sexo dado\n",
    "def personas_por_ciudad_sexo(nombre_ciudad, sexo, personas):\n",
    "    #filtramos a las personas por ciudad de residencia y sexo\n",
    "    return filter(lambda persona: persona.sexo == sexo and\n",
    "                                  persona.ciudad_residencia == nombre_ciudad, personas)"
   ]
  },
  {
   "cell_type": "code",
   "execution_count": 59,
   "metadata": {
    "collapsed": false
   },
   "outputs": [
    {
     "name": "stdout",
     "output_type": "stream",
     "text": [
      "Ximena Femenino ViñaDelMar\n"
     ]
    }
   ],
   "source": [
    "# probamos la función\n",
    "pxcs = personas_por_ciudad_sexo('ViñaDelMar', 'Femenino', personas)\n",
    "for persona in pxcs:\n",
    "    print(persona.nombre, persona.sexo, persona.ciudad_residencia)"
   ]
  },
  {
   "cell_type": "markdown",
   "metadata": {},
   "source": [
    "> - **personas_por_pais_sexo_profesion(nombre_pais, paises, sexo, profesion,ciudades, personas)**  \n",
    "Recibe el nombre de un país, una lista de paises, un sexo, una profesión, una lista de ciudades y una lista de personas.  \n",
    "Debe retornar un generador con las personas de un pais X, sexo Y y profesión Z."
   ]
  },
  {
   "cell_type": "code",
   "execution_count": 75,
   "metadata": {
    "collapsed": true
   },
   "outputs": [],
   "source": [
    "# 6 Personas por pais sexo y profesion\n",
    "def personas_por_pais_sexo_profesion(nombre_pais, paises, sexo, profesion,\n",
    "                                     ciudades, personas):\n",
    "    #filtramos a las personas por pais sexo y area de trabajo\n",
    "    personas_pais = personas_por_pais(nombre_pais, paises, ciudades, personas)\n",
    "    return filter(lambda persona: persona.area_de_trabajo == profesion and\n",
    "                  persona.sexo == sexo, personas_pais)"
   ]
  },
  {
   "cell_type": "code",
   "execution_count": 83,
   "metadata": {
    "collapsed": false
   },
   "outputs": [],
   "source": [
    "# probamos la función\n",
    "pxpsp = personas_por_pais_sexo_profesion('Chile', paises, 'Masculino', 'Medica', ciudades, personas)\n",
    "for persona in pxpsp:\n",
    "    print(persona.nombre)"
   ]
  },
  {
   "cell_type": "markdown",
   "metadata": {},
   "source": [
    "> - **sueldo_promedio(personas)**  \n",
    "Recibe una de lista personas.  \n",
    "Debe retornar un valor (int/float)."
   ]
  },
  {
   "cell_type": "code",
   "execution_count": 85,
   "metadata": {
    "collapsed": true
   },
   "outputs": [],
   "source": [
    "from functools import reduce \n",
    "\n",
    "# 7 Sueldo promedio mundo\n",
    "def sueldo_promedio(personas):\n",
    "    # calculamos el sueldo promedio de todas las personas\n",
    "    sueldos = [int(persona.sueldo) for persona in personas]\n",
    "    return reduce(lambda x, y: x + y, sueldos) / len(sueldos)"
   ]
  },
  {
   "cell_type": "code",
   "execution_count": 87,
   "metadata": {
    "collapsed": false
   },
   "outputs": [
    {
     "name": "stdout",
     "output_type": "stream",
     "text": [
      "Sueldo promedio mundial: 1322.27373\n"
     ]
    }
   ],
   "source": [
    "# probamos la función\n",
    "sueldo_mundo = sueldo_promedio(personas)\n",
    "print(\"Sueldo promedio mundial: {}\".format(sueldo_mundo))"
   ]
  },
  {
   "cell_type": "markdown",
   "metadata": {},
   "source": [
    "> - **sueldo_ciudad(nombre_ciudad, personas)**  \n",
    "Recibe el nombre de una ciudad y una lista de personas.  \n",
    "Debe retornar un valor (int/float)."
   ]
  },
  {
   "cell_type": "code",
   "execution_count": 89,
   "metadata": {
    "collapsed": true
   },
   "outputs": [],
   "source": [
    "# 8 Sueldo promedio de una ciudad x\n",
    "def sueldo_ciudad(nombre_ciudad, personas):\n",
    "    #calculamos el sueldo promedio de un ciudad dada\n",
    "    personas_ciudad = personas_por_ciudad(nombre_ciudad, personas)\n",
    "    return sueldo_promedio(personas_ciudad)"
   ]
  },
  {
   "cell_type": "code",
   "execution_count": 91,
   "metadata": {
    "collapsed": false
   },
   "outputs": [
    {
     "name": "stdout",
     "output_type": "stream",
     "text": [
      "Sueldo promedio Osorno: 727.0\n"
     ]
    }
   ],
   "source": [
    "# probamos la función\n",
    "sueldo_osorno = sueldo_ciudad('Osorno', personas)\n",
    "print(\"Sueldo promedio Osorno: {}\".format(sueldo_osorno))"
   ]
  },
  {
   "cell_type": "markdown",
   "metadata": {},
   "source": [
    "> - **sueldo_pais(nombre_pais, paises, ciudades, personas)**  \n",
    "Recibe el nombre de un país, una lista de paises, una lista de ciudades y una lista de personas.  \n",
    "Debe retornar un valor (int/float)."
   ]
  },
  {
   "cell_type": "code",
   "execution_count": 96,
   "metadata": {
    "collapsed": true
   },
   "outputs": [],
   "source": [
    "# 9 Sueldo promedio de un pais x\n",
    "def sueldo_pais(nombre_pais, paises, ciudades, personas):\n",
    "    # calculamos el sueldo promedio de un pais\n",
    "    personas_pais = personas_por_pais(nombre_pais, paises, ciudades, personas)\n",
    "    return sueldo_promedio(personas_pais)"
   ]
  },
  {
   "cell_type": "code",
   "execution_count": 98,
   "metadata": {
    "collapsed": false
   },
   "outputs": [
    {
     "name": "stdout",
     "output_type": "stream",
     "text": [
      "Sueldo promedio Chile: 25159.35714285714\n"
     ]
    }
   ],
   "source": [
    "# probamos la función\n",
    "sueldo_chile = sueldo_pais('Chile', paises, ciudades, personas)\n",
    "print(\"Sueldo promedio Chile: {}\".format(sueldo_chile))"
   ]
  },
  {
   "cell_type": "markdown",
   "metadata": {},
   "source": [
    "> - **sueldo_pais_profesion(nombre_pais, paises, profesion, ciudades, personas)**   \n",
    "Recibe el nombre de un país, una lista de paises, una profesión, una lista de ciudad y una lista de personas.  \n",
    "Debe retornar un valor (int/float)."
   ]
  },
  {
   "cell_type": "code",
   "execution_count": 99,
   "metadata": {
    "collapsed": true
   },
   "outputs": [],
   "source": [
    "# 10 Sueldo promedio de un pais y profesion x\n",
    "def sueldo_pais_profesion(nombre_pais, paises, profesion, ciudades, personas):\n",
    "    # calculamos el sueldo promedio de un pais por profesion\n",
    "    personas_pais = personas_por_pais(nombre_pais, paises, ciudades, personas)\n",
    "    # ppp = personas por pais y profesion\n",
    "    ppp = filter(lambda persona: persona.area_de_trabajo == profesion, personas_pais)\n",
    "    return sueldo_promedio(ppp)"
   ]
  },
  {
   "cell_type": "code",
   "execution_count": 102,
   "metadata": {
    "collapsed": false
   },
   "outputs": [
    {
     "name": "stdout",
     "output_type": "stream",
     "text": [
      "Sueldo promedio estudiante Chile: 96.42857142857143\n",
      "Sueldo promedio ingeniero Chile: 55457.31578947369\n"
     ]
    }
   ],
   "source": [
    "# probamos la función\n",
    "sueldo_chile_estudiantes = sueldo_pais_profesion('Chile', paises, 'Estudiante', ciudades, personas)\n",
    "sueldo_chile_ingenieros = sueldo_pais_profesion('Chile', paises, 'Ingeneril', ciudades, personas)\n",
    "print(\"Sueldo promedio estudiante Chile: {}\".format(sueldo_chile_estudiantes))\n",
    "print(\"Sueldo promedio ingeniero Chile: {}\".format(sueldo_chile_ingenieros))"
   ]
  },
  {
   "cell_type": "markdown",
   "metadata": {},
   "source": [
    "Finalmente se pide mostrar las siguientes consultas utilizando las funciones previamente definidas"
   ]
  },
  {
   "cell_type": "markdown",
   "metadata": {},
   "source": [
    "> - Muestre a las 10 personas en Chile con mejor sueldo y enumérelos con índices partiendo desde el 0. (**hint**: use enumerate)  \n",
    "Ejemplo para 3 personas:  \n",
    "*0, Nicolas, 4979  \n",
    "1, Andrea, 4976  \n",
    "2, Jan, 4963*\n"
   ]
  },
  {
   "cell_type": "code",
   "execution_count": 67,
   "metadata": {
    "collapsed": false
   },
   "outputs": [
    {
     "name": "stdout",
     "output_type": "stream",
     "text": [
      "0 Paulmann 999999\n",
      "1 Piñera 999998\n",
      "2 Farkas 999997\n",
      "3 Andrea 4976\n",
      "4 Jan 4963\n",
      "5 Rodrigo 4962\n",
      "6 Ramiro 4892\n",
      "7 Paula 4657\n",
      "8 Monica 4627\n",
      "9 Ramiro 4325\n"
     ]
    }
   ],
   "source": [
    "# 11 Top 10 Chilenos con mejor sueldo\n",
    "p_chile = list(personas_por_pais('Chile', paises, ciudades, personas))\n",
    "\n",
    "# Ordenamos por sueldo de mayor a menor\n",
    "p_chile.sort(key=lambda p: int(p.sueldo), reverse=True)\n",
    "\n",
    "# Seleccionamos las 10 primeras\n",
    "mejores_sueldos_chile = p_chile[:10]\n",
    "\n",
    "# agrupamos con indices\n",
    "agrupados = enumerate(mejores_sueldos_chile)\n",
    "\n",
    "# finalmente los mostramos\n",
    "for i, persona in agrupados:\n",
    "    print(i, persona.nombre, persona.sueldo)"
   ]
  },
  {
   "cell_type": "markdown",
   "metadata": {},
   "source": [
    "> - Se le pide, utilizando zip seleccionar 10 personas al azar en el mundo y generar tuplas con sus nombres, apellidos y sueldos.  \n",
    "Ejemplo para 4 personas:  \n",
    "*Nombres: (’Lucas’, ’Camilo’, ’Camilo’, ’Orlando’)  \n",
    "Apellidos: (’Aravena’, ’Venezian’, ’Garrido’, ’Otarola’)  \n",
    "Sueldos: (121, 232, 612, 134)*  "
   ]
  },
  {
   "cell_type": "code",
   "execution_count": 56,
   "metadata": {
    "collapsed": false,
    "scrolled": true
   },
   "outputs": [
    {
     "name": "stdout",
     "output_type": "stream",
     "text": [
      "Nombres:  ('Dinko', 'Diego', 'Alan', 'Angel', 'Moises', 'Felix', 'Víctor', 'Sebastián', 'Alexander', 'Carla')\n",
      "Apellidos:  ('He', 'Bengoa', 'Galilea', 'Lavarello', 'Tapia', 'Vergara', 'Lavarello', 'Caceres', 'Gevert', 'Undurraga')\n",
      "Sueldos:  (124, 3520, 0, 112, 344, 167, 0, 4865, 219, 1485)\n"
     ]
    }
   ],
   "source": [
    "from random import choice\n",
    "\n",
    "# 12 Generar tuplas nombre, apellido y sueldo de 10 personas random\n",
    "# Creamos un generador solo para usar el metodo next al imprimir\n",
    "variables = (x for x in ['Nombres: ', 'Apellidos: ', 'Sueldos: '])\n",
    "\n",
    "# Generador que entregara 10 personas al azar\n",
    "p_seleccionadas = (choice(personas) for i in range(10))\n",
    "\n",
    "# Obtenemos un generador con nombre, apellido y sueldo de cada persona\n",
    "atributos = ((p.nombre, p.apellido, int(p.sueldo)) for p in p_seleccionadas)\n",
    "\n",
    "# generamos el zip e imprimimos\n",
    "informacion = zip(*atributos)\n",
    "\n",
    "# finalmente los mostramos\n",
    "for i in informacion:\n",
    "    print(next(variables), i)"
   ]
  },
  {
   "cell_type": "markdown",
   "metadata": {},
   "source": [
    "___\n"
   ]
  },
  {
   "cell_type": "markdown",
   "metadata": {},
   "source": [
    "### Yield e iteraciones\n",
    "Una de las utilidades de yield más comunes corresponde a la capacidad de \"pausar iteraciones\", permitiendo tomar elementos de la iteración cuando sea necesario."
   ]
  },
  {
   "cell_type": "code",
   "execution_count": 3,
   "metadata": {
    "collapsed": false
   },
   "outputs": [
    {
     "name": "stdout",
     "output_type": "stream",
     "text": [
      "Se han salvado todos por hoy\n",
      "A Oompa Lumpa lo abdujo un alien!\n",
      "A Edward Nigma lo abdujo un alien!\n",
      "Se han salvado todos por hoy\n",
      "A Oompa Lumpa lo abdujo un alien!\n",
      "A Don Francisco lo abdujo un alien!\n",
      "Se han salvado todos por hoy\n"
     ]
    }
   ],
   "source": [
    "import random\n",
    "vendedores = {'Jorge Horge': 5, 'Oompa Lumpa': 7, 'Edward Nigma': 4, 'Don Francisco': 5, 'Rigoberta Manchulez': 9}\n",
    "def shuffle(dicc):\n",
    "    for vendedor in dicc:\n",
    "        dicc[vendedor] = random.randint(1,10)\n",
    "\n",
    "def extraterrestres(dicc):\n",
    "    while True:\n",
    "        for elemento in dicc:\n",
    "            if dicc[elemento] < 3:\n",
    "                yield elemento\n",
    "        yield\n",
    "m = extraterrestres(vendedores)\n",
    "for number in range(7):\n",
    "    victima = next(m)\n",
    "    if not victima:\n",
    "        print(\"Se han salvado todos por hoy\")\n",
    "    else:\n",
    "        print(\"A {} lo abdujo un alien!\".format(victima))\n",
    "    shuffle(vendedores)\n"
   ]
  },
  {
   "cell_type": "markdown",
   "metadata": {},
   "source": [
    "Un ultimo uso de yield que puede ser de utilidad corresponde a poder retornar generadores con una cantidad desconocida de elementos (No estamos limitados por un valor como mínimo)."
   ]
  },
  {
   "cell_type": "code",
   "execution_count": null,
   "metadata": {
    "collapsed": true
   },
   "outputs": [],
   "source": [
    "distrito_1 = ['Jorge Horge', 'Ellen Ripley', 'Jessica Jones','Rocky Balboa', 'Brock Samson',  'Edna Mode', 'Marge Gunderson']\n",
    "distrito_2 = ['Benedish Cucumberstash', 'Clumpity Bandersnatch', 'Benadryl Cumberpot']\n",
    "\n",
    "#Hay solo 4 vacunas por distrito! Se debe respetar el orden alfabético\n",
    "def por_vacunar(lista):\n",
    "    lista = sorted(lista)\n",
    "    for numero in range(4):\n",
    "        try:\n",
    "            yield lista[numero]\n",
    "        except IndexError:\n",
    "            break"
   ]
  },
  {
   "cell_type": "markdown",
   "metadata": {},
   "source": [
    "#### ¿Confundido sobre la diferencia entre conceptos como iteradores, generadores, etc?\n",
    "Muy entendible, a veces parece como si fuera conceptos intercambiables por las formas en que se usan. Pero tienen importantes diferencias tanto de forma teórica como práctica, y es importante saber distinguirlos. Recomendamos leer sobre esto [aquí](http://nvie.com/posts/iterators-vs-generators/). "
   ]
  },
  {
   "cell_type": "markdown",
   "metadata": {},
   "source": [
    "### Encore!\n",
    "Como último ejemplo, queríamos mostrarles las diferencias de ejecución entre programación atomizada y funcional, con el caso a continuación."
   ]
  },
  {
   "cell_type": "code",
   "execution_count": 2,
   "metadata": {
    "collapsed": true
   },
   "outputs": [],
   "source": [
    "import time\n",
    "import math\n",
    "\n",
    "def is_prime(x): \n",
    "    i = 2\n",
    "    while i < x:\n",
    "        z = x%i\n",
    "        if z==0:\n",
    "            return False\n",
    "        i = i+1\n",
    "    return True"
   ]
  },
  {
   "cell_type": "code",
   "execution_count": 15,
   "metadata": {
    "collapsed": false
   },
   "outputs": [
    {
     "name": "stdout",
     "output_type": "stream",
     "text": [
      "Se demoro 1705.007553100586 mili-segundos\n"
     ]
    }
   ],
   "source": [
    "def get_primes(input_list):\n",
    "    result_list = list()\n",
    "    for element in input_list:\n",
    "        if is_prime(element):\n",
    "            result_list.append(element)\n",
    "    return result_list\n",
    "\n",
    "inicial = time.time()\n",
    "get_primes([x for x in range(10000)])\n",
    "print(\"Se demoro {} mili-segundos\".format((time.time()-inicial)*1000))"
   ]
  },
  {
   "cell_type": "code",
   "execution_count": 16,
   "metadata": {
    "collapsed": false
   },
   "outputs": [
    {
     "name": "stdout",
     "output_type": "stream",
     "text": [
      "Se demoro 1.0004043579101562 mili-segundos\n"
     ]
    }
   ],
   "source": [
    "def get_primes(input_list):\n",
    "    return (element for element in input_list if is_prime(element))\n",
    "\n",
    "inicial = time.time()\n",
    "get_primes([x for x in range(10000)])\n",
    "print(\"Se demoro {} mili-segundos\".format((time.time()-inicial)*1000))"
   ]
  },
  {
   "cell_type": "code",
   "execution_count": 18,
   "metadata": {
    "collapsed": false
   },
   "outputs": [
    {
     "name": "stdout",
     "output_type": "stream",
     "text": [
      "Se demoro 2.0008087158203125 mili-segundos\n"
     ]
    }
   ],
   "source": [
    "def get_primes(input_list):\n",
    "    for element in input_list:\n",
    "        if is_prime(element):\n",
    "            yield element\n",
    "\n",
    "inicial = time.time()\n",
    "get_primes([x for x in range(10000)])\n",
    "print(\"Se demoro {} mili-segundos\".format((time.time()-inicial)*1000))"
   ]
  },
  {
   "cell_type": "code",
   "execution_count": null,
   "metadata": {
    "collapsed": true
   },
   "outputs": [],
   "source": []
  },
  {
   "cell_type": "code",
   "execution_count": null,
   "metadata": {
    "collapsed": true
   },
   "outputs": [],
   "source": []
  }
 ],
 "metadata": {
  "kernelspec": {
   "display_name": "Python 3",
   "language": "python",
   "name": "python3"
  },
  "language_info": {
   "codemirror_mode": {
    "name": "ipython",
    "version": 3
   },
   "file_extension": ".py",
   "mimetype": "text/x-python",
   "name": "python",
   "nbconvert_exporter": "python",
   "pygments_lexer": "ipython3",
   "version": "3.6.0"
  }
 },
 "nbformat": 4,
 "nbformat_minor": 2
}
