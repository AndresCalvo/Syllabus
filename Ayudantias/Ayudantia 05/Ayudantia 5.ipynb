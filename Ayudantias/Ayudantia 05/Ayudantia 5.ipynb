{
 "cells": [
  {
   "cell_type": "markdown",
   "metadata": {},
   "source": [
    "# Ayudantía 5: Programación funcional 101\n",
    "\n",
    "**José Pablo Domínguez y Tien Villalobos**\n",
    "___\n",
    "\n",
    "## ¿Por qué?\n",
    "\n",
    "- Existen lenguajes de programación que utilizan este paradigma.\n",
    "- Procesamiento de información optimizada.\n",
    "- Programas más robustos, mantenibles y fáciles de testear.\n",
    "\n",
    "## Actividad 6 2017-2\n",
    "\n",
    "Pueden encontrar el enunciado completo de esta actividad [aquí](https://github.com/IIC2233/Syllabus-2017-2/blob/master/Actividades/AC06/ac06-iic2233-2017.pdf).\n",
    "___"
   ]
  },
  {
   "cell_type": "markdown",
   "metadata": {},
   "source": [
    "La actividad tiene los siguientes archivos:"
   ]
  },
  {
   "cell_type": "markdown",
   "metadata": {},
   "source": [
    "- **Ciudades.txt**: Contiene la información de los ciudades en la dimensión. Cada fila es de la forma: sigla país, nombre.\n",
    "- **Paises.txt**: Contiene la información de las países en la dimensión. Cada fila es de la forma: sigla, nombre.\n",
    "- **Informacion_personas.txt**: Contiene la información de las personas en la dimensión. Cada fila es de la forma: nombre, apellido, edad, sexo, ciudad de residencia, área de trabajo, sueldo."
   ]
  },
  {
   "cell_type": "markdown",
   "metadata": {},
   "source": [
    "Para ilustrar mejor el contenido de los archivos se muestran en tablas\n",
    "![](img/tablas_archivos.png)"
   ]
  },
  {
   "cell_type": "code",
   "execution_count": 119,
   "metadata": {
    "collapsed": true
   },
   "outputs": [],
   "source": [
    "# Acá vemos como guardar la info de las entidades\n"
   ]
  },
  {
   "cell_type": "code",
   "execution_count": 130,
   "metadata": {
    "collapsed": false
   },
   "outputs": [],
   "source": [
    "# Abrimos los archivos correspondientes y guardamos a las personas, ciudades y paises en listas\n",
    "def leer_ciudades(path_ciudades):\n",
    "    with open(path_ciudades, 'r') as file1:\n",
    "        # retornar la lista de ciudades\n",
    "        return\n",
    "    \n",
    "def leer_paises(path_paises):\n",
    "    with open(path_paises, 'r') as file3:\n",
    "        # retornar la lista de paises\n",
    "        return \n",
    "    \n",
    "def leer_personas(path_personas):\n",
    "    with open(path_personas, 'r') as file2:\n",
    "        # retornar la lista de personas\n",
    "        return"
   ]
  },
  {
   "cell_type": "markdown",
   "metadata": {},
   "source": [
    "A continuación, la actividad pedía completar un listado de funciones para realizar las consultas"
   ]
  },
  {
   "cell_type": "markdown",
   "metadata": {},
   "source": [
    ">- **ciudad_por_pais(nombre_pais, paises, ciudades)**  \n",
    "Recibe el nombre de un país, una lista de paises y una lista de ciudades.  \n",
    "Debe retornar un generador con las ciudades pertenecientes al pais X"
   ]
  },
  {
   "cell_type": "code",
   "execution_count": 124,
   "metadata": {
    "collapsed": true
   },
   "outputs": [],
   "source": [
    "# 1 Ciudades por pais\n",
    "def ciudad_por_pais(nombre_pais, paises, ciudades):\n",
    "    # retornamos las ciudades por pais\n",
    "    return"
   ]
  },
  {
   "cell_type": "code",
   "execution_count": 126,
   "metadata": {
    "collapsed": false
   },
   "outputs": [],
   "source": [
    "# probamos la función\n",
    "ciudades_chile = ciudad_por_pais('Chile', paises, ciudades)\n",
    "for ciudad in ciudades_chile:\n",
    "    print(ciudad.nombre)"
   ]
  },
  {
   "cell_type": "markdown",
   "metadata": {},
   "source": [
    "> - **personas_por_pais(nombre_pais, paises, ciudades, personas)**  \n",
    "Recibe el nombre de un país, una lista de paises, una lista de ciudades y una lista de personas.  \n",
    "Debe retornar un generador con las personas pertenecientes al país X."
   ]
  },
  {
   "cell_type": "code",
   "execution_count": 6,
   "metadata": {
    "collapsed": true
   },
   "outputs": [],
   "source": [
    "# 2 Personas por pais\n",
    "def personas_por_pais(nombre_pais, paises, ciudades, personas):\n",
    "    # retornamos las personas por pais\n",
    "    return"
   ]
  },
  {
   "cell_type": "code",
   "execution_count": 9,
   "metadata": {
    "collapsed": false
   },
   "outputs": [],
   "source": [
    "# probamos la función\n",
    "personas_chile = personas_por_pais('Chile', paises, ciudades, personas)\n",
    "for persona in personas_chile:\n",
    "    print(persona.nombre)"
   ]
  },
  {
   "cell_type": "markdown",
   "metadata": {},
   "source": [
    "> - **personas_por_ciudad(nombre_ciudad, personas)**   \n",
    "Recibe el nombre de una ciudad y una lista de personas.  \n",
    "Debe retornar un generador con las personas pertenecientes a la ciudad X."
   ]
  },
  {
   "cell_type": "code",
   "execution_count": 127,
   "metadata": {
    "collapsed": true
   },
   "outputs": [],
   "source": [
    "# 3 Personas por ciudad\n",
    "def personas_por_ciudad(nombre_ciudad, personas):\n",
    "    # retornamos las personas por ciudad\n",
    "    return"
   ]
  },
  {
   "cell_type": "code",
   "execution_count": 129,
   "metadata": {
    "collapsed": false
   },
   "outputs": [],
   "source": [
    "# probamos la función\n",
    "personas_osorno = personas_por_ciudad('Osorno', personas)\n",
    "for persona in personas_osorno:\n",
    "    print(\"{0}, {1}\".format(persona.nombre,persona.ciudad_residencia))  "
   ]
  },
  {
   "cell_type": "markdown",
   "metadata": {},
   "source": [
    "> - **personas_con_sueldo_mayor_a(personas, sueldo)**  \n",
    "Recibe una lista de personas y un valor de sueldo.  \n",
    "Debe retornar un generador con las personas con un sueldo mayor a X."
   ]
  },
  {
   "cell_type": "code",
   "execution_count": 18,
   "metadata": {
    "collapsed": true
   },
   "outputs": [],
   "source": [
    "# 4 Personas con sueldo mayor a x\n",
    "def personas_con_sueldo_mayor_a(personas, sueldo):\n",
    "    # retornamos las personas con sueldo mayor a\n",
    "    return"
   ]
  },
  {
   "cell_type": "code",
   "execution_count": 67,
   "metadata": {
    "collapsed": false
   },
   "outputs": [],
   "source": [
    "# probamos la función\n",
    "p_sueldo_mayor_4500 = personas_con_sueldo_mayor_a(personas, 4500)\n",
    "for persona in p_sueldo_mayor_4500:\n",
    "    print(\"{0}, {1}\".format(persona.nombre, persona.sueldo))"
   ]
  },
  {
   "cell_type": "markdown",
   "metadata": {},
   "source": [
    "> - **personas_por_ciudad_sexo(nombre_ciudad, sexo, personas)**  \n",
    "Recibe el nombre de una ciudad, un sexo y una lista de personas.  \n",
    "Debe retornar un generador con las personas de una ciudad X y de un sexo Y."
   ]
  },
  {
   "cell_type": "code",
   "execution_count": 27,
   "metadata": {
    "collapsed": true
   },
   "outputs": [],
   "source": [
    "# 5 Personas ciudad y sexo dado\n",
    "def personas_por_ciudad_sexo(nombre_ciudad, sexo, personas):\n",
    "    #retornamos a las personas por ciudad de residencia y sexo\n",
    "    return"
   ]
  },
  {
   "cell_type": "code",
   "execution_count": 59,
   "metadata": {
    "collapsed": false
   },
   "outputs": [
    {
     "name": "stdout",
     "output_type": "stream",
     "text": [
      "Ximena Femenino ViñaDelMar\n"
     ]
    }
   ],
   "source": [
    "# probamos la función\n",
    "pxcs = personas_por_ciudad_sexo('ViñaDelMar', 'Femenino', personas)\n",
    "for persona in pxcs:\n",
    "    print(persona.nombre, persona.sexo, persona.ciudad_residencia)"
   ]
  },
  {
   "cell_type": "markdown",
   "metadata": {},
   "source": [
    "> - **personas_por_pais_sexo_profesion(nombre_pais, paises, sexo, profesion,ciudades, personas)**  \n",
    "Recibe el nombre de un país, una lista de paises, un sexo, una profesión, una lista de ciudades y una lista de personas.  \n",
    "Debe retornar un generador con las personas de un pais X, sexo Y y profesión Z."
   ]
  },
  {
   "cell_type": "code",
   "execution_count": 75,
   "metadata": {
    "collapsed": true
   },
   "outputs": [],
   "source": [
    "# 6 Personas por pais sexo y profesion\n",
    "def personas_por_pais_sexo_profesion(nombre_pais, paises, sexo, profesion,\n",
    "                                     ciudades, personas):\n",
    "    #retornamos a las personas por pais sexo y area de trabajo\n",
    "    return"
   ]
  },
  {
   "cell_type": "code",
   "execution_count": 83,
   "metadata": {
    "collapsed": false
   },
   "outputs": [],
   "source": [
    "# probamos la función\n",
    "pxpsp = personas_por_pais_sexo_profesion('Chile', paises, 'Masculino', 'Medica', ciudades, personas)\n",
    "for persona in pxpsp:\n",
    "    print(persona.nombre)"
   ]
  },
  {
   "cell_type": "markdown",
   "metadata": {},
   "source": [
    "> - **sueldo_promedio(personas)**  \n",
    "Recibe una de lista personas.  \n",
    "Debe retornar un valor (int/float)."
   ]
  },
  {
   "cell_type": "code",
   "execution_count": 85,
   "metadata": {
    "collapsed": true
   },
   "outputs": [],
   "source": [
    "# 7 Sueldo promedio mundo\n",
    "def sueldo_promedio(personas):\n",
    "    # calculamos el sueldo promedio de todas las personas\n",
    "    return"
   ]
  },
  {
   "cell_type": "code",
   "execution_count": 2,
   "metadata": {
    "collapsed": false
   },
   "outputs": [],
   "source": [
    "# probamos la función\n",
    "sueldo_mundo = sueldo_promedio(personas)\n",
    "print(\"Sueldo promedio mundial: {}\".format(sueldo_mundo))"
   ]
  },
  {
   "cell_type": "markdown",
   "metadata": {},
   "source": [
    "> - **sueldo_ciudad(nombre_ciudad, personas)**  \n",
    "Recibe el nombre de una ciudad y una lista de personas.  \n",
    "Debe retornar un valor (int/float)."
   ]
  },
  {
   "cell_type": "code",
   "execution_count": 89,
   "metadata": {
    "collapsed": true
   },
   "outputs": [],
   "source": [
    "# 8 Sueldo promedio de una ciudad x\n",
    "def sueldo_ciudad(nombre_ciudad, personas):\n",
    "    #calculamos el sueldo promedio de un ciudad dada\n",
    "    return"
   ]
  },
  {
   "cell_type": "code",
   "execution_count": 3,
   "metadata": {
    "collapsed": false
   },
   "outputs": [],
   "source": [
    "# probamos la función\n",
    "sueldo_osorno = sueldo_ciudad('Osorno', personas)\n",
    "print(\"Sueldo promedio Osorno: {}\".format(sueldo_osorno))"
   ]
  },
  {
   "cell_type": "markdown",
   "metadata": {},
   "source": [
    "> - **sueldo_pais(nombre_pais, paises, ciudades, personas)**  \n",
    "Recibe el nombre de un país, una lista de paises, una lista de ciudades y una lista de personas.  \n",
    "Debe retornar un valor (int/float)."
   ]
  },
  {
   "cell_type": "code",
   "execution_count": 96,
   "metadata": {
    "collapsed": true
   },
   "outputs": [],
   "source": [
    "# 9 Sueldo promedio de un pais x\n",
    "def sueldo_pais(nombre_pais, paises, ciudades, personas):\n",
    "    # calculamos el sueldo promedio de un pais\n",
    "    return"
   ]
  },
  {
   "cell_type": "code",
   "execution_count": 4,
   "metadata": {
    "collapsed": false
   },
   "outputs": [],
   "source": [
    "# probamos la función\n",
    "sueldo_chile = sueldo_pais('Chile', paises, ciudades, personas)\n",
    "print(\"Sueldo promedio Chile: {}\".format(sueldo_chile))"
   ]
  },
  {
   "cell_type": "markdown",
   "metadata": {},
   "source": [
    "> - **sueldo_pais_profesion(nombre_pais, paises, profesion, ciudades, personas)**   \n",
    "Recibe el nombre de un país, una lista de paises, una profesión, una lista de ciudad y una lista de personas.  \n",
    "Debe retornar un valor (int/float)."
   ]
  },
  {
   "cell_type": "code",
   "execution_count": 5,
   "metadata": {
    "collapsed": true
   },
   "outputs": [],
   "source": [
    "# 10 Sueldo promedio de un pais y profesion x\n",
    "def sueldo_pais_profesion(nombre_pais, paises, profesion, ciudades, personas):\n",
    "    # calculamos el sueldo promedio de un pais por profesion\n",
    "    return"
   ]
  },
  {
   "cell_type": "code",
   "execution_count": 6,
   "metadata": {
    "collapsed": false
   },
   "outputs": [],
   "source": [
    "# probamos la función\n",
    "sueldo_chile_estudiantes = sueldo_pais_profesion('Chile', paises, 'Estudiante', ciudades, personas)\n",
    "sueldo_chile_ingenieros = sueldo_pais_profesion('Chile', paises, 'Ingeneril', ciudades, personas)\n",
    "print(\"Sueldo promedio estudiante Chile: {}\".format(sueldo_chile_estudiantes))\n",
    "print(\"Sueldo promedio ingeniero Chile: {}\".format(sueldo_chile_ingenieros))"
   ]
  },
  {
   "cell_type": "markdown",
   "metadata": {},
   "source": [
    "Finalmente se pide mostrar las siguientes consultas utilizando las funciones previamente definidas"
   ]
  },
  {
   "cell_type": "markdown",
   "metadata": {},
   "source": [
    "> - Muestre a las 10 personas en Chile con mejor sueldo y enumérelos con índices partiendo desde el 0. (**hint**: use enumerate)  \n",
    "Ejemplo para 3 personas:  \n",
    "*0, Nicolas, 4979  \n",
    "1, Andrea, 4976  \n",
    "2, Jan, 4963*\n"
   ]
  },
  {
   "cell_type": "code",
   "execution_count": 7,
   "metadata": {
    "collapsed": false
   },
   "outputs": [],
   "source": [
    "# 11 Top 10 Chilenos con mejor sueldo"
   ]
  },
  {
   "cell_type": "markdown",
   "metadata": {},
   "source": [
    "> - Se le pide, utilizando zip seleccionar 10 personas al azar en el mundo y generar tuplas con sus nombres, apellidos y sueldos.  \n",
    "Ejemplo para 4 personas:  \n",
    "*Nombres: (’Lucas’, ’Camilo’, ’Camilo’, ’Orlando’)  \n",
    "Apellidos: (’Aravena’, ’Venezian’, ’Garrido’, ’Otarola’)  \n",
    "Sueldos: (121, 232, 612, 134)*  "
   ]
  },
  {
   "cell_type": "code",
   "execution_count": 8,
   "metadata": {
    "collapsed": false,
    "scrolled": true
   },
   "outputs": [],
   "source": [
    "# 12 Generar tuplas nombre, apellido y sueldo de 10 personas random"
   ]
  },
  {
   "cell_type": "markdown",
   "metadata": {},
   "source": [
    "___\n"
   ]
  },
  {
   "cell_type": "markdown",
   "metadata": {},
   "source": [
    "### Yield e iteraciones\n",
    "Una de las utilidades de yield más comunes corresponde a la capacidad de \"pausar iteraciones\", permitiendo tomar elementos de la iteración cuando sea necesario."
   ]
  },
  {
   "cell_type": "code",
   "execution_count": 9,
   "metadata": {
    "collapsed": false
   },
   "outputs": [],
   "source": [
    "import random\n",
    "vendedores = {'Jorge Horge': 5, 'Oompa Lumpa': 7, 'Edward Nigma': 4, 'Don Francisco': 5, 'Rigoberta Manchulez': 9}\n",
    "\n",
    "def shuffle(dicc):\n",
    "    for vendedor in dicc:\n",
    "        dicc[vendedor] = random.randint(1,10)\n",
    "\n",
    "def extraterrestres(dicc):\n",
    "    while True:\n",
    "        for elemento in dicc:\n",
    "            if dicc[elemento] < 3:\n",
    "                yield elemento\n",
    "        yield\n"
   ]
  },
  {
   "cell_type": "markdown",
   "metadata": {},
   "source": [
    "Un ultimo uso de yield que puede ser de utilidad corresponde a poder retornar generadores con una cantidad desconocida de elementos (No estamos limitados por un valor como mínimo)."
   ]
  },
  {
   "cell_type": "code",
   "execution_count": null,
   "metadata": {
    "collapsed": true
   },
   "outputs": [],
   "source": [
    "distrito_1 = ['Jorge Horge', 'Ellen Ripley', 'Jessica Jones','Rocky Balboa', 'Brock Samson',  'Edna Mode', 'Marge Gunderson']\n",
    "distrito_2 = ['Benedish Cucumberstash', 'Clumpity Bandersnatch', 'Benadryl Cumberpot']\n",
    "\n",
    "#Hay solo 4 vacunas por distrito! Se debe respetar el orden alfabético\n",
    "def por_vacunar(lista):\n",
    "    pass"
   ]
  },
  {
   "cell_type": "markdown",
   "metadata": {},
   "source": [
    "#### ¿Confundido sobre la diferencia entre conceptos como iteradores, generadores, etc?\n",
    "Muy entendible, a veces parece como si fuera conceptos intercambiables por las formas en que se usan. Pero tienen importantes diferencias tanto de forma teórica como práctica, y es importante saber distinguirlos. Recomendamos leer sobre esto [aquí](http://nvie.com/posts/iterators-vs-generators/). "
   ]
  },
  {
   "cell_type": "markdown",
   "metadata": {},
   "source": [
    "### Encore!\n",
    "Como último ejemplo, queríamos mostrarles las diferencias de ejecución entre programación atomizada y funcional, con el caso a continuación."
   ]
  },
  {
   "cell_type": "code",
   "execution_count": 10,
   "metadata": {
    "collapsed": true
   },
   "outputs": [],
   "source": [
    "def is_prime(x): \n",
    "    pass"
   ]
  },
  {
   "cell_type": "code",
   "execution_count": 11,
   "metadata": {
    "collapsed": false
   },
   "outputs": [],
   "source": [
    "def get_primes(input_list):\n",
    "    pass"
   ]
  },
  {
   "cell_type": "code",
   "execution_count": 12,
   "metadata": {
    "collapsed": false
   },
   "outputs": [],
   "source": [
    "def get_primes(input_list):\n",
    "    pass"
   ]
  },
  {
   "cell_type": "code",
   "execution_count": 13,
   "metadata": {
    "collapsed": false
   },
   "outputs": [],
   "source": [
    "def get_primes(input_list):\n",
    "    pass"
   ]
  }
 ],
 "metadata": {
  "kernelspec": {
   "display_name": "Python 3",
   "language": "python",
   "name": "python3"
  },
  "language_info": {
   "codemirror_mode": {
    "name": "ipython",
    "version": 3
   },
   "file_extension": ".py",
   "mimetype": "text/x-python",
   "name": "python",
   "nbconvert_exporter": "python",
   "pygments_lexer": "ipython3",
   "version": "3.6.0"
  }
 },
 "nbformat": 4,
 "nbformat_minor": 2
}
